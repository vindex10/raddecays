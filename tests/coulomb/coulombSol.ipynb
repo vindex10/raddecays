{
 "cells": [
  {
   "cell_type": "code",
   "execution_count": 2,
   "metadata": {
    "collapsed": true
   },
   "outputs": [],
   "source": [
    "%matplotlib inline\n",
    "import matplotlib.pyplot as plt\n",
    "import scipy as sp\n",
    "from scipy.integrate import ode\n",
    "import pandas as pd\n",
    "\n",
    "from collections import defaultdict\n",
    "\n",
    "plt.rcParams[\"figure.figsize\"] = (12,8)"
   ]
  },
  {
   "cell_type": "code",
   "execution_count": 3,
   "metadata": {
    "collapsed": true
   },
   "outputs": [],
   "source": [
    "mC = 1.4830\n",
    "muR = mC/2\n",
    "alphaS = 0.5461\n",
    "rC = 1E-15"
   ]
  },
  {
   "cell_type": "code",
   "execution_count": 12,
   "metadata": {
    "collapsed": true
   },
   "outputs": [],
   "source": [
    "def du(r, u, E):\n",
    "    ruse = rC if r < rC else r\n",
    "    return [u[1], -2*muR*(E + 4/3*alphaS/ruse)*(rC if r < rC else u[0])] \n",
    "    # return [u[1], -2*muR*(E*r + 4/3*alphaS) if r < rC else -2*muR*(E + 4/3*alphaS/r)*u[0]] "
   ]
  },
  {
   "cell_type": "code",
   "execution_count": 5,
   "metadata": {
    "collapsed": true
   },
   "outputs": [],
   "source": [
    "def eigen(e0, step=0.0001, acc = 1E-5):\n",
    "    sol = ode(du).set_integrator('vode')\n",
    "\n",
    "    def f(E):\n",
    "        sol.set_initial_value([0, 1], 0).set_f_params(E)\n",
    "        cutoff = 100\n",
    "        return abs(sol.integrate(cutoff)[0]*sp.exp(2*muR*E*cutoff))\n",
    "    \n",
    "    eig = e0\n",
    "    inc = 1\n",
    "    while abs(inc) > acc:\n",
    "        inc = -f(eig)*step/(f(eig+step)-f(eig))\n",
    "        eig += inc\n",
    "        if eig >=0:\n",
    "            return sp.NaN\n",
    "    \n",
    "    return eig"
   ]
  },
  {
   "cell_type": "code",
   "execution_count": 6,
   "metadata": {
    "collapsed": true
   },
   "outputs": [],
   "source": [
    "def findAll(reg):\n",
    "    points = sp.arange(*reg, 0.001)\n",
    "    eigs = defaultdict(list)\n",
    "    for point in points:\n",
    "        val = eigen(point)\n",
    "        ind = \"{:.2f}\".format(float(val))\n",
    "        eigs[ind].append(val)\n",
    "        print(point, list(eigs.keys()))\n",
    "    del eigs[\"nan\"]\n",
    "    return eigs"
   ]
  },
  {
   "cell_type": "code",
   "execution_count": null,
   "metadata": {
    "collapsed": true,
    "scrolled": true
   },
   "outputs": [],
   "source": [
    "eigs = findAll([-0.2,-0.006])"
   ]
  },
  {
   "cell_type": "code",
   "execution_count": null,
   "metadata": {
    "collapsed": true
   },
   "outputs": [],
   "source": [
    "def filterEigens(eigs, threshold=5):\n",
    "    einums = list()\n",
    "    for v in eigs.values():\n",
    "        if len(v) > threshold:\n",
    "            einum = sp.average(v)\n",
    "            einums.append(einum)\n",
    "    return sorted(einums)"
   ]
  },
  {
   "cell_type": "code",
   "execution_count": null,
   "metadata": {
    "collapsed": true
   },
   "outputs": [],
   "source": [
    "for i in eigens:\n",
    "    print(i, eigens[0]/i)"
   ]
  },
  {
   "cell_type": "code",
   "execution_count": 17,
   "metadata": {
    "collapsed": true
   },
   "outputs": [],
   "source": [
    "def energPoints(reg, steps=1000, cutoff=100):\n",
    "    sol = ode(du).set_integrator('dopri5', atol=0.0000001)\n",
    "\n",
    "    def f(E):\n",
    "        sol.set_initial_value([0, 1], 0).set_f_params(E)\n",
    "        return abs(sol.integrate(cutoff)[0]*sp.exp(2*muR*E*cutoff))\n",
    "    \n",
    "    points = sp.arange(*reg, (reg[1]-reg[0])/steps)\n",
    "    vals = [f(point) for point in points]\n",
    "    return [points, vals]"
   ]
  },
  {
   "cell_type": "code",
   "execution_count": 20,
   "metadata": {},
   "outputs": [],
   "source": [
    "reg = [-0.01, -0.001]\n",
    "data = energPoints(reg, 1000, 1000)"
   ]
  },
  {
   "cell_type": "code",
   "execution_count": 21,
   "metadata": {},
   "outputs": [
    {
     "data": {
      "image/png": "[encoded data removed]",
      "text/plain": [
       "<matplotlib.figure.Figure at 0x7f83595587b8>"
      ]
     },
     "metadata": {},
     "output_type": "display_data"
    }
   ],
   "source": [
    "plt.plot(-data[0], data[1], linestyle=\"\", marker=\".\")\n",
    "plt.yscale(\"log\")\n",
    "plt.xscale(\"log\")\n",
    "# for eig in eigens:\n",
    "#     if eig > reg[0] and eig < reg[1]:\n",
    "#         plt.axvline(-eig, linestyle=\"\", marker=\"o\", color=\"gray\")\n",
    "for i in range(1,15):\n",
    "    if -muR*alphaS**2*8/9/i**2 > reg[0] and -muR*alphaS**2*8/9/i**2 < reg[1]:\n",
    "        plt.axvline(muR*alphaS**2*8/9/i**2, linestyle=\"--\", color=\"green\")"
   ]
  },
  {
   "cell_type": "markdown",
   "metadata": {},
   "source": [
    "*Notice*\n",
    "\n",
    "As higher energies one goes, as longer tails wave function has. At the same time, for low energies one will get huge magnitudes at high scales. That is why cutoff requires tuning along E axis."
   ]
  },
  {
   "cell_type": "code",
   "execution_count": 18,
   "metadata": {
    "collapsed": true
   },
   "outputs": [],
   "source": [
    "reg = [-0.2, -0.01]\n",
    "data = energPoints(reg, 1000, 100)"
   ]
  },
  {
   "cell_type": "code",
   "execution_count": 19,
   "metadata": {},
   "outputs": [
    {
     "data": {
      "image/png": "[encoded data removed]",
      "text/plain": [
       "<matplotlib.figure.Figure at 0x7f835985abe0>"
      ]
     },
     "metadata": {},
     "output_type": "display_data"
    }
   ],
   "source": [
    "plt.plot(-data[0], data[1], linestyle=\"\", marker=\".\")\n",
    "plt.yscale(\"log\")\n",
    "plt.xscale(\"log\")\n",
    "for i in range(1,15):\n",
    "    if -muR*alphaS**2*8/9/i**2 > reg[0] and -muR*alphaS**2*8/9/i**2 < reg[1]:\n",
    "        plt.axvline(muR*alphaS**2*8/9/i**2, linestyle=\"--\", color=\"green\")"
   ]
  },
  {
   "cell_type": "code",
   "execution_count": 16,
   "metadata": {},
   "outputs": [
    {
     "name": "stdout",
     "output_type": "stream",
     "text": [
      "0.19656354952444446\n",
      "0.049140887381111116\n",
      "0.021840394391604942\n",
      "0.012285221845277779\n",
      "0.007862541980977779\n",
      "0.0054600985979012355\n",
      "0.004011501010702948\n",
      "0.0030713054613194448\n",
      "0.0024267104879561047\n",
      "0.0019656354952444447\n",
      "0.0016244921448301196\n",
      "0.0013650246494753089\n",
      "0.0011630979261801448\n",
      "0.001002875252675737\n"
     ]
    }
   ],
   "source": [
    "for i in range(1,15):\n",
    "    print(muR*alphaS**2*8/9/i**2)"
   ]
  },
  {
   "cell_type": "code",
   "execution_count": null,
   "metadata": {
    "collapsed": true
   },
   "outputs": [],
   "source": []
  }
 ],
 "metadata": {
  "kernelspec": {
   "display_name": "Python 3",
   "language": "python3.6",
   "name": "python3"
  },
  "language_info": {
   "codemirror_mode": {
    "name": "ipython",
    "version": 3
   },
   "file_extension": ".py",
   "mimetype": "text/x-python",
   "name": "python",
   "nbconvert_exporter": "python",
   "pygments_lexer": "ipython3",
   "version": "3.6.3"
  }
 },
 "nbformat": 4,
 "nbformat_minor": 2
}
