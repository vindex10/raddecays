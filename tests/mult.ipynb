{
 "cells": [
  {
   "cell_type": "code",
   "execution_count": 167,
   "metadata": {},
   "outputs": [],
   "source": [
    "%run -i header.py\n",
    "from sympy import N\n",
    "from sympy.physics.quantum.cg import CG\n",
    "from scipy.special import sph_harm, spherical_jn"
   ]
  },
  {
   "cell_type": "code",
   "execution_count": 170,
   "metadata": {},
   "outputs": [],
   "source": [
    "def clebsch(a, b, c, d, e ,f):\n",
    "    return sp.array(N(CG(a, b, c, d, e, f).doit()), dtype=sp.complex64)"
   ]
  },
  {
   "cell_type": "markdown",
   "metadata": {},
   "source": [
    "Define polarization vectors:\n",
    "\n",
    "- $\\lambda = \\pm1:\\qquad \\vec{e}_\\lambda = -\\frac{\\lambda}{\\sqrt{2}} \\{ 1, \\mathrm{i} \\lambda, 0 \\}$\n",
    "- $\\lambda = 0:\\qquad \\vec{e}_\\lambda = \\{ 0, 0, 1 \\}$"
   ]
  },
  {
   "cell_type": "code",
   "execution_count": 160,
   "metadata": {},
   "outputs": [],
   "source": [
    "def ee(lam):\n",
    "    return -lam/sp.sqrt(2)*sp.array([1, lam*1j, 0], dtype=sp.complex64) + sp.array([0, 0, 1-lam**2])"
   ]
  },
  {
   "cell_type": "markdown",
   "metadata": {},
   "source": [
    "Define vector spherical harmonic:\n",
    "\n",
    "$\\vec{Y}_{l, J}^\\lambda = \\sum_{m_1, m_2} <J \\lambda|l m_1 1 m_2> Y_L^{m_1} \\vec{e}_{m_2}$"
   ]
  },
  {
   "cell_type": "code",
   "execution_count": 171,
   "metadata": {},
   "outputs": [],
   "source": [
    "def Yvec(l, J, m, th, phi):\n",
    "    res = 0\n",
    "    for m1 in range(-l, l+1, 1):\n",
    "        for m2 in range(-1, 2, 1): \n",
    "            res += sph_harm(m1, l, phi, th)*clebsch(l, m1, 1, m2, J, m)*ee(m2)\n",
    "    return  res"
   ]
  },
  {
   "cell_type": "markdown",
   "metadata": {},
   "source": [
    "Spherical harmonic of the order 0 doesn't depend on $\\phi$ in general notation. It is represented in notation of SciPy `sph_harm`.\n",
    "\n",
    "Adaptation scheme: $Y_l^m(\\theta, \\phi)$ = `sph_harm`$(m, l, \\phi, \\theta)$"
   ]
  },
  {
   "cell_type": "code",
   "execution_count": 172,
   "metadata": {},
   "outputs": [
    {
     "data": {
      "text/plain": [
       "0j"
      ]
     },
     "execution_count": 172,
     "metadata": {},
     "output_type": "execute_result"
    }
   ],
   "source": [
    "sph_harm(0, 5, 3.2, 0.2) - sph_harm(0, 5, 2.4, 0.2)"
   ]
  },
  {
   "cell_type": "markdown",
   "metadata": {},
   "source": [
    "Plane wave expansion according to [Wiki](https://en.wikipedia.org/wiki/Plane_wave_expansion).\n",
    "\n",
    "We apply the following property of spherical harmonics:\n",
    "\n",
    "$Y_l^0(\\theta, \\phi) = \\sqrt{\\frac{2l+1}{4 \\pi}} P_l(\\cos(\\theta))$"
   ]
  },
  {
   "cell_type": "code",
   "execution_count": 173,
   "metadata": {},
   "outputs": [
    {
     "data": {
      "text/plain": [
       "(-3.3306690738754696e-16+0j)"
      ]
     },
     "execution_count": 173,
     "metadata": {},
     "output_type": "execute_result"
    }
   ],
   "source": [
    "def testLegendreSph(n, th):\n",
    "    return sph_harm(0, n, 0, th) - sp.sqrt((2*n+1)/4/sp.pi)*sp.special.legendre(n)(sp.cos(th))\n",
    "testLegendreSph(4,0.2)"
   ]
  },
  {
   "cell_type": "code",
   "execution_count": 174,
   "metadata": {},
   "outputs": [],
   "source": [
    "def pwExp(l, kr, th):\n",
    "    return sp.sqrt(4*sp.pi*(2*l+1))*1j**l*spherical_jn(l, kr)*sph_harm(0, l, 0, th)\n",
    "def pwExpSum(lmax, kr, th):\n",
    "    return pwExp(sp.arange(0, lmax, 1), kr, th).sum()"
   ]
  },
  {
   "cell_type": "code",
   "execution_count": 219,
   "metadata": {},
   "outputs": [
    {
     "data": {
      "text/plain": [
       "(3.3868731708075472e-09+7.025391379755774e-11j)"
      ]
     },
     "execution_count": 219,
     "metadata": {},
     "output_type": "execute_result"
    }
   ],
   "source": [
    "pwExpSum(10, 1.3, 0.2) - sp.exp(1j*1.3*sp.cos(0.2))"
   ]
  },
  {
   "cell_type": "code",
   "execution_count": 206,
   "metadata": {},
   "outputs": [
    {
     "data": {
      "text/plain": [
       "0j"
      ]
     },
     "execution_count": 206,
     "metadata": {},
     "output_type": "execute_result"
    }
   ],
   "source": [
    "def testClebschOrtho(j1, j2, M1, M2):\n",
    "    return sum([ clebsch(j1, M1[0], j2, M1[1], j, sum(M1))*clebsch(j1, M2[0], j2, M2[1], j, sum(M2)) for j in range(abs(j1-j2), (j1+j2) +1, 1)])\n",
    "testClebschOrtho(1, 2, (1,2), (1,3))"
   ]
  },
  {
   "cell_type": "code",
   "execution_count": 210,
   "metadata": {},
   "outputs": [
    {
     "data": {
      "text/plain": [
       "array([-9.64022001e-09+0.00000000e+00j,  0.00000000e+00-8.83757939e-09j,\n",
       "       -4.75679567e-09+0.00000000e+00j])"
      ]
     },
     "execution_count": 210,
     "metadata": {},
     "output_type": "execute_result"
    }
   ],
   "source": [
    "def testOrtho(J, lam, th):\n",
    "    return sph_harm(0, J, 0, th)*ee(lam) - sum([Yvec(J, j, lam, th, 0)*clebsch(J, 0, 1, lam, j, lam) for j in range(abs(J-1), J+2, 1)])\n",
    "testOrtho(2, 1, 0.3)"
   ]
  },
  {
   "cell_type": "code",
   "execution_count": 233,
   "metadata": {},
   "outputs": [
    {
     "data": {
      "text/plain": [
       "array([-4.92803814e-09+1.97833974e-08j, -1.98446799e-08-4.73346518e-09j,\n",
       "       -1.57252362e-09-5.00387396e-11j])"
      ]
     },
     "metadata": {},
     "output_type": "display_data"
    }
   ],
   "source": [
    "def prepremult(jmax, lam, kr, th):\n",
    "   return sum([\\\n",
    "        1j**J*sp.sqrt(4*sp.pi*(2*J+1))*spherical_jn(J, kr)*clebsch(J,0,1,lam,J,lam)*Yvec(J,J,lam,th,0)\\\n",
    "       for J in range(1, jmax+1, 1)])\\\n",
    "   +sum([\\\n",
    "        1j**J*sp.sqrt(4*sp.pi*(2*J+1))*spherical_jn(J, kr)*clebsch(J,0,1,lam,J+1,lam)*Yvec(J,J+1,lam,th,0)\\\n",
    "       for J in range(0, jmax+1, 1)])\\\n",
    "   +sum([\\\n",
    "        1j**J*sp.sqrt(4*sp.pi*(2*J+1))*spherical_jn(J, kr)*clebsch(J,0,1,lam,J-1,lam)*Yvec(J,J-1,lam,th,0)\\\n",
    "       for J in range(1, jmax+1, 1)])\n",
    "display(prepremult(10, 1, 1, 0.2) - ee(1)*sp.exp(1j*sp.cos(0.2)))"
   ]
  },
  {
   "cell_type": "code",
   "execution_count": 242,
   "metadata": {},
   "outputs": [
    {
     "data": {
      "text/plain": [
       "array([-4.92793162e-09+1.97861991e-08j, -1.98474815e-08-4.73335865e-09j,\n",
       "       -1.57252361e-09-5.00387553e-11j])"
      ]
     },
     "metadata": {},
     "output_type": "display_data"
    }
   ],
   "source": [
    "def premult(jmax, lam, kr, th):\n",
    "   return sum([\\\n",
    "        1j**J*sp.sqrt(4*sp.pi*(2*J+1))*spherical_jn(J, kr)*clebsch(J,0,1,lam,J,lam)*Yvec(J,J,lam,th,0)\\\n",
    "       for J in range(1, jmax+1, 1)])\\\n",
    "   +sum([\\\n",
    "        -1j**(J+1)*sp.sqrt(4*sp.pi*(2*J+1))*spherical_jn(J-1, kr)*clebsch(J-1,0,1,lam,J,lam)*Yvec(J-1,J,lam,th,0)*sp.sqrt((2*J-1)/(2*J+1))\\\n",
    "       for J in range(1, jmax+1, 1)])\\\n",
    "   +sum([\\\n",
    "        1j**(J+1)*sp.sqrt(4*sp.pi*(2*J+1))*spherical_jn(J+1, kr)*clebsch(J+1,0,1,lam,J,lam)*Yvec(J+1,J,lam,th,0)*sp.sqrt((2*J+3)/(2*J+1))\\\n",
    "       for J in range(0, jmax+1, 1)])\n",
    "display(premult(15, 1, 1, 0.2) - ee(1)*sp.exp(1j*sp.cos(0.2)))"
   ]
  },
  {
   "cell_type": "code",
   "execution_count": 248,
   "metadata": {},
   "outputs": [],
   "source": [
    "def mult(J, lam, kr, th):\n",
    "    return -sp.sqrt(2*sp.pi)*(1j)**J*sp.sqrt(2*J+1)*(lam*spherical_jn(J, kr)*Yvec(J, J, lam, th, 0.)+1j*(sp.sqrt((J+1)/(2*J+1))*spherical_jn(J-1, kr)*Yvec(J-1, J, lam, th, 0) - sp.sqrt(J/(2*J+1))*spherical_jn(J+1, kr)*Yvec(J+1, J, lam, th, 0)))"
   ]
  },
  {
   "cell_type": "code",
   "execution_count": 251,
   "metadata": {},
   "outputs": [
    {
     "data": {
      "text/plain": [
       "array([-2.49798704e-09+9.87284032e-09j, -9.94399985e-09-2.33265757e-09j,\n",
       "       -1.84763736e-09+4.23745651e-11j])"
      ]
     },
     "execution_count": 251,
     "metadata": {},
     "output_type": "execute_result"
    }
   ],
   "source": [
    "sum([mult(J, 1, 1, 0.2) for J in range(1,15)]) - ee(1)*sp.exp(1j*1*sp.cos(0.2))"
   ]
  },
  {
   "cell_type": "code",
   "execution_count": 252,
   "metadata": {},
   "outputs": [
    {
     "data": {
      "text/plain": [
       "array([-2.49798704e-09-9.87284032e-09j,  9.94399985e-09-2.33265757e-09j,\n",
       "       -1.84763736e-09-4.23745651e-11j])"
      ]
     },
     "execution_count": 252,
     "metadata": {},
     "output_type": "execute_result"
    }
   ],
   "source": [
    "def mult(J, lam, kr, th):\n",
    "    return -sp.sqrt(2*sp.pi)*(-1j)**J*sp.sqrt(2*J+1)*(lam*spherical_jn(J, kr)*Yvec(J, J, lam, th, 0.)-1j*(sp.sqrt((J+1)/(2*J+1))*spherical_jn(J-1, kr)*Yvec(J-1, J, lam, th, 0) - sp.sqrt(J/(2*J+1))*spherical_jn(J+1, kr)*Yvec(J+1, J, lam, th, 0)))\n",
    "sum([mult(J, 1, 1, 0.2) for J in range(1,15)]) - ee(1)*sp.exp(-1j*1*sp.cos(0.2))"
   ]
  },
  {
   "cell_type": "markdown",
   "metadata": {},
   "source": [
    "Result: Multipole expansion works as in the thesis"
   ]
  },
  {
   "cell_type": "markdown",
   "metadata": {},
   "source": [
    "## Coeff Q symmetry"
   ]
  },
  {
   "cell_type": "code",
   "execution_count": 279,
   "metadata": {},
   "outputs": [
    {
     "data": {
      "text/plain": [
       "(0.10000000506295846+0j)"
      ]
     },
     "metadata": {},
     "output_type": "display_data"
    },
    {
     "data": {
      "text/plain": [
       "(0.29999999062850013+0j)"
      ]
     },
     "metadata": {},
     "output_type": "display_data"
    },
    {
     "data": {
      "text/plain": [
       "(0.6000000040888882+0j)"
      ]
     },
     "metadata": {},
     "output_type": "display_data"
    }
   ],
   "source": [
    "def coefQ(J, lam, instate, outstate):\n",
    "    return sum([clebsch(outstate[\"L\"], outstate[\"m\"]-s, outstate[\"S\"], s, outstate[\"J\"], outstate[\"m\"])*\\\n",
    "         clebsch(instate[\"L\"], instate[\"m\"]-s, instate[\"S\"], s, instate[\"J\"], instate[\"m\"])*\\\n",
    "         clebsch(J, -lam, instate[\"L\"], instate[\"m\"]-s, outstate[\"L\"], outstate[\"m\"]-s)\n",
    "        for s in range(-instate[\"S\"], instate[\"S\"]+1, 1)])**2\n",
    "    \n",
    "a1 = coefQ(1, -1, {\"J\":2, \"m\":0, \"L\":1, \"S\":1}, {\"J\":1, \"m\":1, \"L\":0, \"S\":1})+\\\n",
    "    coefQ(1, 1, {\"J\":2, \"m\":0, \"L\":1, \"S\":1}, {\"J\":1, \"m\":-1, \"L\":0, \"S\":1})# chi_c2 -> psi_1S\n",
    "a2 = coefQ(1, -1, {\"J\":2, \"m\":0, \"L\":1, \"S\":1}, {\"J\":1, \"m\":1, \"L\":0, \"S\":1})+\\\n",
    "    coefQ(1, 1, {\"J\":2, \"m\":0, \"L\":1, \"S\":1}, {\"J\":1, \"m\":-1, \"L\":0, \"S\":1})+\\\n",
    "    coefQ(1, -1, {\"J\":2, \"m\":-2, \"L\":1, \"S\":1}, {\"J\":1, \"m\":-1, \"L\":0, \"S\":1})+\\\n",
    "    coefQ(1, 1, {\"J\":2, \"m\":2, \"L\":1, \"S\":1}, {\"J\":1, \"m\":1, \"L\":0, \"S\":1})+\\\n",
    "    coefQ(1, 1, {\"J\":2, \"m\":1, \"L\":1, \"S\":1}, {\"J\":1, \"m\":0, \"L\":0, \"S\":1})+\\\n",
    "    coefQ(1, -1, {\"J\":2, \"m\":-1, \"L\":1, \"S\":1}, {\"J\":1, \"m\":0, \"L\":0, \"S\":1}) #chi_c2 -> psi_1S\n",
    "display(a1/a2)\n",
    "\n",
    "b1 = coefQ(1, -1, {\"J\":1, \"m\":0, \"L\":0, \"S\":1}, {\"J\":2, \"m\":1, \"L\":1, \"S\":1})+\\\n",
    "    coefQ(1, 1, {\"J\":1, \"m\":0, \"L\":0, \"S\":1}, {\"J\":2, \"m\":-1, \"L\":1, \"S\":1})# psi_3S -> chi_c2\n",
    "b2 = coefQ(1, 1, {\"J\":1, \"m\":1, \"L\":0, \"S\":1}, {\"J\":2, \"m\":0, \"L\":1, \"S\":1})+\\\n",
    "    coefQ(1, -1, {\"J\":1, \"m\":-1, \"L\":0, \"S\":1}, {\"J\":2, \"m\":0, \"L\":1, \"S\":1})+\\\n",
    "    coefQ(1, 1, {\"J\":1, \"m\":0, \"L\":0, \"S\":1}, {\"J\":2, \"m\":-1, \"L\":1, \"S\":1})+\\\n",
    "    coefQ(1, -1, {\"J\":1, \"m\":0, \"L\":0, \"S\":1}, {\"J\":2, \"m\":1, \"L\":1, \"S\":1})+\\\n",
    "    coefQ(1, 1, {\"J\":1, \"m\":-1, \"L\":0, \"S\":1}, {\"J\":2, \"m\":-2, \"L\":1, \"S\":1})+\\\n",
    "    coefQ(1, -1, {\"J\":1, \"m\":1, \"L\":0, \"S\":1}, {\"J\":2, \"m\":2, \"L\":1, \"S\":1})\n",
    "display(b1/b2)\n",
    "\n",
    "a1 = coefQ(1, 1, {\"J\":2, \"m\":2, \"L\":1, \"S\":1}, {\"J\":1, \"m\":1, \"L\":0, \"S\":1})+\\\n",
    "    coefQ(1, -1, {\"J\":2, \"m\":-2, \"L\":1, \"S\":1}, {\"J\":1, \"m\":-1, \"L\":0, \"S\":1})# chi_c2 -> psi_1S\n",
    "a2 = coefQ(1, -1, {\"J\":2, \"m\":0, \"L\":1, \"S\":1}, {\"J\":1, \"m\":1, \"L\":0, \"S\":1})+\\\n",
    "    coefQ(1, 1, {\"J\":2, \"m\":0, \"L\":1, \"S\":1}, {\"J\":1, \"m\":-1, \"L\":0, \"S\":1})+\\\n",
    "    coefQ(1, -1, {\"J\":2, \"m\":-2, \"L\":1, \"S\":1}, {\"J\":1, \"m\":-1, \"L\":0, \"S\":1})+\\\n",
    "    coefQ(1, 1, {\"J\":2, \"m\":2, \"L\":1, \"S\":1}, {\"J\":1, \"m\":1, \"L\":0, \"S\":1})+\\\n",
    "    coefQ(1, 1, {\"J\":2, \"m\":1, \"L\":1, \"S\":1}, {\"J\":1, \"m\":0, \"L\":0, \"S\":1})+\\\n",
    "    coefQ(1, -1, {\"J\":2, \"m\":-1, \"L\":1, \"S\":1}, {\"J\":1, \"m\":0, \"L\":0, \"S\":1}) #chi_c2 -> psi_1S\n",
    "display(a1/a2)\n"
   ]
  },
  {
   "cell_type": "code",
   "execution_count": 280,
   "metadata": {},
   "outputs": [
    {
     "data": {
      "text/plain": [
       "(0.29999999062850013+0j)"
      ]
     },
     "metadata": {},
     "output_type": "display_data"
    }
   ],
   "source": [
    "b1 = coefQ(1, 1, {\"J\":1, \"m\":1, \"L\":0, \"S\":1}, {\"J\":0, \"m\":0, \"L\":1, \"S\":1})+\\\n",
    "    coefQ(1, 1, {\"J\":1, \"m\":-1, \"L\":0, \"S\":1}, {\"J\":0, \"m\":0, \"L\":1, \"S\":1})# psi_3S -> chi_c2\n",
    "b2 = coefQ(1, 1, {\"J\":1, \"m\":1, \"L\":0, \"S\":1}, {\"J\":0, \"m\":0, \"L\":1, \"S\":1})+\\\n",
    "    coefQ(1, -1, {\"J\":1, \"m\":-1, \"L\":0, \"S\":1}, {\"J\":0, \"m\":0, \"L\":1, \"S\":1})+\\\n",
    "    coefQ(1, 1, {\"J\":1, \"m\":0, \"L\":0, \"S\":1}, {\"J\":0, \"m\":0, \"L\":1, \"S\":1})+\\\n",
    "    coefQ(1, -1, {\"J\":1, \"m\":0, \"L\":0, \"S\":1}, {\"J\":0, \"m\":0, \"L\":1, \"S\":1})+\\\n",
    "    coefQ(1, 1, {\"J\":1, \"m\":-1, \"L\":0, \"S\":1}, {\"J\":0, \"m\":0, \"L\":1, \"S\":1})+\\\n",
    "    coefQ(1, -1, {\"J\":1, \"m\":1, \"L\":0, \"S\":1}, {\"J\":0, \"m\":0, \"L\":1, \"S\":1})\n",
    "display(b1/b2)"
   ]
  },
  {
   "cell_type": "code",
   "execution_count": null,
   "metadata": {},
   "outputs": [],
   "source": []
  }
 ],
 "metadata": {
  "kernelspec": {
   "display_name": "Python 3",
   "language": "python",
   "name": "python3"
  },
  "language_info": {
   "codemirror_mode": {
    "name": "ipython",
    "version": 3
   },
   "file_extension": ".py",
   "mimetype": "text/x-python",
   "name": "python",
   "nbconvert_exporter": "python",
   "pygments_lexer": "ipython3",
   "version": "3.6.5"
  }
 },
 "nbformat": 4,
 "nbformat_minor": 2
}
