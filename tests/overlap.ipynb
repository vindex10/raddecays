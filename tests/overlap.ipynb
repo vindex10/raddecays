{
 "cells": [
  {
   "cell_type": "markdown",
   "metadata": {},
   "source": [
    "# Overlap"
   ]
  },
  {
   "cell_type": "code",
   "execution_count": 1,
   "metadata": {
    "collapsed": true
   },
   "outputs": [],
   "source": [
    "%run -i header.py\n",
    "import sympy as sym"
   ]
  },
  {
   "cell_type": "code",
   "execution_count": 33,
   "metadata": {},
   "outputs": [
    {
     "data": {
      "text/plain": [
       "6.785348432179347"
      ]
     },
     "execution_count": 33,
     "metadata": {},
     "output_type": "execute_result"
    }
   ],
   "source": [
    "def overlap(instate, outstate, prefix, p):\n",
    "    params = json.load(open(\"quarkEigen/output/{0}.{1}-{0}/config\".format(prefix, p), \"r\"))\n",
    "    \n",
    "    pin = params[instate]\n",
    "    pout = params[outstate]\n",
    "    \n",
    "    fin = pd.read_csv(\"quarkU/output/{0}.{1}-{0}/data/{2}\".format(prefix, p, instate))\n",
    "    fout = pd.read_csv(\"quarkU/output/{0}.{1}-{0}/data/{2}\".format(prefix, p, outstate))\n",
    "    \n",
    "    masses = pd.read_csv(\"data/{}-spectrum.csv\".format(p), index_col=0, comment=\"#\")\n",
    "    masses = masses[\"LP\"] if prefix == \"lin\" else masses[\"SP\"]\n",
    "\n",
    "    mi = masses[instate]/10**3\n",
    "    mf = masses[outstate]/10**3\n",
    "    \n",
    "    normIn = sp.sqrt(sp.integrate.trapz(fin[\"u\"]**2, fin[\"r\"]))\n",
    "    normOut = sp.sqrt(sp.integrate.trapz(fout[\"u\"]**2, fout[\"r\"]))\n",
    "    \n",
    "    finterp = sp.interpolate.interp1d(fin[\"r\"], fin[\"u\"]/normIn)\n",
    "    fouterp = sp.interpolate.interp1d(fout[\"r\"], fout[\"u\"]/normOut)\n",
    "    \n",
    "    line = fin[\"r\"] if fin[\"r\"].iloc[-1] < fout[\"r\"].iloc[-1] else fout[\"r\"]\n",
    "    \n",
    "    k = -mf + sp.sqrt(mf**2 + 2*mf*(mi - mf))\n",
    "    #k = (mi**2-mf**2)/2/mi\n",
    "    \n",
    "    e1 = {\n",
    "              \"art\": 3/k*sp.integrate.trapz(finterp(line)*fouterp(line)*(k*line/2*sp.special.spherical_jn(0, k*line/2) - sp.special.spherical_jn(1, k*line/2)), line)\n",
    "            , \"my\": sp.integrate.trapz(finterp(line)*fouterp(line)*line*(sp.special.spherical_jn(0, k*line/2) + sp.special.spherical_jn(2, k*line/2)), line)\n",
    "            , \"my_thesis\": (mi-mf)/3*sp.integrate.quad(lambda line: finterp(line)*fouterp(line)*line*(sp.special.spherical_jn(0, k*line/2)+sp.special.spherical_jn(2, k*line/2)), line.iloc[0], line.iloc[-1])[0]\n",
    "        }\n",
    "    m1 = {\n",
    "                \"art\": 4*sp.pi*sp.integrate.trapz(finterp(line)*fouterp(line)*sp.special.spherical_jn(0, k*line/2), line)\n",
    "              , \"my\": sp.sqrt(pin[\"eq\"][\"xL\"])*sp.integrate.trapz(finterp(line)*fouterp(line)*sp.special.spherical_jn(1, k*line/2), line)\n",
    "    }\n",
    "    \n",
    "    return m1[\"art\"]\n",
    "    \n",
    "overlap(\"chi_c2_2P\", \"psi_2S\", \"lin\", \"c\")"
   ]
  },
  {
   "cell_type": "code",
   "execution_count": 34,
   "metadata": {
    "collapsed": true
   },
   "outputs": [],
   "source": [
    "def width(instate, outstate, prefix, p):\n",
    "    params = json.load(open(\"quarkEigen/output/{0}.{1}-{0}/config\".format(prefix, p), \"r\"))\n",
    "    \n",
    "    pin = params[instate]\n",
    "    pout = params[outstate]\n",
    "    \n",
    "    if pin[\"eq\"][\"xS\"] != pout[\"eq\"][\"xS\"]:\n",
    "        return 0\n",
    "    \n",
    "    masses = pd.read_csv(\"data/{}-spectrum.csv\".format(p), index_col=0, comment=\"#\")\n",
    "    #masses = masses[\"LP\"] if prefix == \"lin\" else masses[\"SP\"]\n",
    "    masses = masses[\"PDG\"]\n",
    "\n",
    "    mi = masses[instate]/10**3\n",
    "    mf = masses[outstate]/10**3\n",
    "    \n",
    "    pinter = json.load(open(\"trans/output/{0}.{1}-{0}/config\".format(prefix, p), \"r\"))\n",
    "    \n",
    "    k = -mf + sp.sqrt(mf**2 + 2*mf*(mi - mf))\n",
    "    #k = (mi**2-mf**2)/2/mi\n",
    "    \n",
    "    recoil = 1 - k/mi\n",
    "    \n",
    "    #return 4*pinter[\"alphaEM\"]*k*(1-k/mi)*overlap(instate, outstate, prefix, p)**2\n",
    "    #return pinter[\"alphaEM\"]/2*(mi**4-mf**4)/mi**3*overlap(instate, outstate, prefix, p)**2\n",
    "    \n",
    "    e1 =   4/3*pinter[\"alphaEM\"]*pout[\"eq\"][\"xJ\"]\\\n",
    "              *(max(pin[\"eq\"][\"xL\"], pout[\"eq\"][\"xL\"])-1)/2\\\n",
    "              *sym.N(cg.wigner_6j(\\\n",
    "                              (pin[\"eq\"][\"xJ\"]-1)/2, 1, (pout[\"eq\"][\"xJ\"]-1)/2\\\n",
    "                            , (pout[\"eq\"][\"xL\"]-1)/2, (pin[\"eq\"][\"xS\"]-1)/2, (pin[\"eq\"][\"xL\"]-1)/2\\\n",
    "                           ))**2\\\n",
    "              *k*(mi-mf)**2\\\n",
    "              *overlap(instate, outstate, prefix, p)**2*recoil\n",
    "    m1 = 4/3*pinter[\"alphaEM\"]/pin[\"eq\"][\"env\"][\"mC\"]**2*pout[\"eq\"][\"xJ\"]/pin[\"eq\"][\"xL\"]\\\n",
    "              *k**5\\\n",
    "              *overlap(instate, outstate, prefix, p)**2*recoil\n",
    "    \n",
    "    return m1"
   ]
  },
  {
   "cell_type": "code",
   "execution_count": 35,
   "metadata": {},
   "outputs": [
    {
     "data": {
      "text/plain": [
       "59.35867516067026"
      ]
     },
     "execution_count": 35,
     "metadata": {},
     "output_type": "execute_result"
    }
   ],
   "source": [
    "width(\"chi_c2_2P\", \"psi_2S\", \"lin\", \"c\")*10**6"
   ]
  },
  {
   "cell_type": "code",
   "execution_count": 175,
   "metadata": {},
   "outputs": [
    {
     "data": {
      "text/plain": [
       "1/3"
      ]
     },
     "execution_count": 175,
     "metadata": {},
     "output_type": "execute_result"
    }
   ],
   "source": [
    "cg.wigner_6j(0, 1, 1, 0, 1, 1)"
   ]
  },
  {
   "cell_type": "code",
   "execution_count": 194,
   "metadata": {},
   "outputs": [
    {
     "data": {
      "text/plain": [
       "[<matplotlib.lines.Line2D at 0x7fe832c09e80>]"
      ]
     },
     "execution_count": 194,
     "metadata": {},
     "output_type": "execute_result"
    },
    {
     "data": {
      "image/png": "[encoded data removed]",
      "text/plain": [
       "<Figure size 800x600 with 1 Axes>"
      ]
     },
     "metadata": {},
     "output_type": "display_data"
    }
   ],
   "source": [
    "r = sp.linspace(0, 10, 100)\n",
    "k = 0.2\n",
    "plt.plot(r, r*(sp.special.spherical_jn(0, k*r/2)+sp.special.spherical_jn(2, k*r/2)))\n",
    "plt.plot(r, 3/k*(k*r/2*sp.special.spherical_jn(0, k*r/2)-sp.special.spherical_jn(1, k*r/2)))"
   ]
  },
  {
   "cell_type": "code",
   "execution_count": null,
   "metadata": {
    "collapsed": true
   },
   "outputs": [],
   "source": []
  }
 ],
 "metadata": {
  "kernelspec": {
   "display_name": "Python 3",
   "language": "python",
   "name": "python3"
  },
  "language_info": {
   "codemirror_mode": {
    "name": "ipython",
    "version": 3
   },
   "file_extension": ".py",
   "mimetype": "text/x-python",
   "name": "python",
   "nbconvert_exporter": "python",
   "pygments_lexer": "ipython3",
   "version": "3.5.5"
  }
 },
 "nbformat": 4,
 "nbformat_minor": 2
}
