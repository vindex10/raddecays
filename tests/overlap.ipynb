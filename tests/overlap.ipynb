{
 "cells": [
  {
   "cell_type": "markdown",
   "metadata": {},
   "source": [
    "# Overlap"
   ]
  },
  {
   "cell_type": "code",
   "execution_count": 2,
   "metadata": {},
   "outputs": [],
   "source": [
    "%run -i header.py"
   ]
  },
  {
   "cell_type": "code",
   "execution_count": 8,
   "metadata": {},
   "outputs": [
    {
     "data": {
      "text/plain": [
       "(array(0.46899737), array(0.21219134))"
      ]
     },
     "metadata": {},
     "output_type": "display_data"
    },
    {
     "data": {
      "text/plain": [
       "1.8146773964575502"
      ]
     },
     "execution_count": 8,
     "metadata": {},
     "output_type": "execute_result"
    }
   ],
   "source": [
    "def overlap(fin, fout):\n",
    "    fin = pd.read_csv(\"quarkU/output/scr.b-scr/data/{}\".format(fin))\n",
    "    fout = pd.read_csv(\"quarkU/output/scr.b-scr/data/{}\".format(fout))\n",
    "    \n",
    "    normIn = sp.sqrt(sp.integrate.trapz(fin[\"u\"]**2, fin[\"r\"]))\n",
    "    normOut = sp.sqrt(sp.integrate.trapz(fout[\"u\"]**2, fout[\"r\"]))\n",
    "    \n",
    "    finterp = sp.interpolate.interp1d(fin[\"r\"], fin[\"u\"]/normIn)\n",
    "    fouterp = sp.interpolate.interp1d(fout[\"r\"], fout[\"u\"]/normOut)\n",
    "    \n",
    "    line = fin[\"r\"] if fin[\"r\"].iloc[-1] < fout[\"r\"].iloc[-1] else fout[\"r\"]\n",
    "    \n",
    "    display((finterp(1), fouterp(1)))\n",
    "    \n",
    "    return sp.integrate.trapz(line*finterp(line)*fouterp(line), line)\n",
    "    \n",
    "overlap(\"chi_b2_2P\", \"yps_2S\")"
   ]
  },
  {
   "cell_type": "code",
   "execution_count": null,
   "metadata": {},
   "outputs": [],
   "source": []
  },
  {
   "cell_type": "code",
   "execution_count": null,
   "metadata": {},
   "outputs": [],
   "source": []
  }
 ],
 "metadata": {
  "kernelspec": {
   "display_name": "Python 3",
   "language": "python",
   "name": "python3"
  },
  "language_info": {
   "codemirror_mode": {
    "name": "ipython",
    "version": 3
   },
   "file_extension": ".py",
   "mimetype": "text/x-python",
   "name": "python",
   "nbconvert_exporter": "python",
   "pygments_lexer": "ipython3",
   "version": "3.5.5"
  }
 },
 "nbformat": 4,
 "nbformat_minor": 2
}
