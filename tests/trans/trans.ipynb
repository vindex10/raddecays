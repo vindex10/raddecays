{
 "cells": [
  {
   "cell_type": "code",
   "execution_count": 1,
   "metadata": {},
   "outputs": [],
   "source": [
    "%run -i ../header.py"
   ]
  },
  {
   "cell_type": "code",
   "execution_count": 2,
   "metadata": {},
   "outputs": [],
   "source": [
    "import matplotlib.patches"
   ]
  },
  {
   "cell_type": "code",
   "execution_count": 3,
   "metadata": {},
   "outputs": [],
   "source": [
    "data_pack = {\n",
    "      \"b\": [\"b-trans.deng2017-\"+num for num in (\"III\", \"IV\", \"V\", \"VI\")]\n",
    "    , \"c\": [\"c-trans.deng2016-\"+num for num in (\"V\", \"VI\", \"VII\", \"VIII\", \"IX\")]\n",
    "}"
   ]
  },
  {
   "cell_type": "markdown",
   "metadata": {},
   "source": [
    "# Export"
   ]
  },
  {
   "cell_type": "code",
   "execution_count": 4,
   "metadata": {},
   "outputs": [],
   "source": [
    "def getPDGTrans(name):\n",
    "    # return widths in [KeV]\n",
    "    pdg_trans = pd.read_csv(\"../data/{}-trans.PDG.csv\".format(name), header=0, index_col=[0,1], comment=\"#\")[\"frac_width\"]\n",
    "    pdg_trans_err = pd.read_csv(\"../data/{}-trans.PDG.err.csv\".format(name), header=0, index_col=[0,1], comment=\"#\")[\"frac_width\"]\n",
    "    \n",
    "    pdg_tot = pd.read_csv(\"../data/{}-widths.csv\".format(name), header=0, index_col=0, comment=\"#\")[\"PDG\"]\n",
    "    pdg_tot_spec = readSpec(\"../data/{}-widths.csv\".format(name))\n",
    "    pdg_tot_err = pd.read_csv(\"../data/{}-widths.err.csv\".format(name), header=0, index_col=0, comment=\"#\")[\"PDG\"].abs()\n",
    "    \n",
    "    pdg_err = pdg_trans_err.copy()\n",
    "    \n",
    "    for instate in pdg_trans.index.levels[0]:\n",
    "        pdg_err.loc[(instate, slice(None))] = (  pdg_trans_err[(instate, slice(None))].values*pdg_tot[instate]\\\n",
    "                                               + pdg_trans[(instate, slice(None))].values*pdg_tot_err[instate]\\\n",
    "                                              )*dimTrans(pdg_tot_spec[\"PDG\"][\"tags\"][0], \"KeV\") # pdg[MeV] -> [KeV]\n",
    "        pdg_trans.loc[(instate, slice(None))] = pdg_trans[(instate, slice(None))].values*pdg_tot[instate]*dimTrans(pdg_tot_spec[\"PDG\"][\"tags\"][0], \"KeV\") # pdg[MeV] -> [KeV]\n",
    "    \n",
    "    pdg_trans.index = pd.Index([tuple(\"${}$\".format(code2name(e)) for e in pair) for pair in pdg_trans.index.values], name=[\"In\", \"Out\"])\n",
    "    pdg_trans.rename(\"PDG\", inplace=True)\n",
    "    \n",
    "    pdg_err.index = pd.Index([tuple(\"${}$\".format(code2name(e)) for e in pair) for pair in pdg_trans_err.index.values], name=[\"In\", \"Out\"])\n",
    "    pdg_err = pdg_err.reindex(pdg_trans.index)\n",
    "    \n",
    "    return pdg_trans, pdg_err"
   ]
  },
  {
   "cell_type": "code",
   "execution_count": 5,
   "metadata": {},
   "outputs": [],
   "source": [
    "def getDengTrans(prefix, cfgname):\n",
    "    # return trans widths of Deng in KeV\n",
    "    prefixToCol = {\"scr\": \"SP\", \"lin\": \"LP\"}\n",
    "    \n",
    "    col = prefixToCol[prefix]\n",
    "    spec = readSpec(\"../data/{}.csv\".format(cfgname))\n",
    "    deng = pd.read_csv(\"../data/{}.csv\".format(cfgname), header=0, index_col=[0,1], comment=\"#\")\n",
    "    for k, v in spec.items():\n",
    "        deng[k] *= dimTrans(v[\"tags\"][0], \"KeV\")\n",
    "    deng.rename(columns={col: \"Deng\"}, inplace=True)\n",
    "    deng.index = pd.Index([tuple(\"${}$\".format(code2name(e)) for e in pair) for pair in deng.index.values], name=[\"In\", \"Out\"])\n",
    "    return deng"
   ]
  },
  {
   "cell_type": "code",
   "execution_count": 6,
   "metadata": {},
   "outputs": [],
   "source": [
    "def getRs(particle, prefix, cfgname, suffix=\"\"):\n",
    "    # return my widths in KeV\n",
    "    data = pd.read_csv(\"output/{}.{}/widths{}\".format(prefix, cfgname, suffix), header=0, index_col = [0, 1], comment=\"#\")\n",
    "    data *= dimTrans(\"GeV\", \"KeV\")\n",
    "    data = data.loc[(data != 0).any(axis=1), :]\n",
    "    data[\"in0\"] /= data[\"width\"]\n",
    "    data[\"in2\"] /= data[\"width\"]\n",
    "    data[\"out0\"] /= data[\"width\"]\n",
    "    data[\"out2\"] /= data[\"width\"]\n",
    "    data.index.names = [\"In\", \"Out\"]\n",
    "    \n",
    "    data_sub = data.query(\"In == '{0}'\".format(particle))\\\n",
    "        .rename(columns={\"out0\": \"$r^{(0)}$\", \"out2\": \"$r^{(2)}$\"})\\\n",
    "        .drop(columns=[\"in0\", \"in2\"])\n",
    "    data_above = data.query(\"Out == '{0}'\".format(particle))\\\n",
    "        .rename(columns={\"in0\": \"$r^{(0)}$\", \"in2\": \"$r^{(2)}$\"})\\\n",
    "        .drop(columns=[\"out0\", \"out2\"])\n",
    "    \n",
    "    data = pd.concat([data_sub, data_above])\n",
    "    data.columns = [\"$\\Gamma$\", \"$r^{(0)}$\", \"$r^{(2)}$\"]\n",
    "    \n",
    "    data.index = pd.Index([tuple(\"${}$\".format(code2name(e)) for e in pair) for pair in data.index.values], name=[\"In\", \"Out\"])\n",
    "    return data"
   ]
  },
  {
   "cell_type": "code",
   "execution_count": 7,
   "metadata": {},
   "outputs": [],
   "source": [
    "def reportRs(pname, prefix, cfgname, suffixes=[\"\", \"E1\"]): # allowed suffixes: \"\", \"E1\", \"ELW\"\n",
    "    stack = []\n",
    "    deng_stack = []\n",
    "    parts = [getRs(pname, prefix, cfgname, suffix)\\\n",
    "                                .add_prefix(\"\" if suffix == \"\" else suffix+\"-\")\\\n",
    "                            for suffix in suffixes]\n",
    "    parts = [part for part in parts if not part.empty]\n",
    "    if len(parts) > 0:\n",
    "        stack.append(pd.concat(parts, axis=1))\n",
    "    \n",
    "    for dataf in data_pack[cfgname.split(\"-\")[0]]:\n",
    "        deng_stack.append(getDengTrans(prefix, dataf)[\"Deng\"])\n",
    "    \n",
    "    stack = pd.concat(stack, sort=False)\n",
    "    deng_stack = pd.concat(deng_stack, axis=0, sort=False).reindex(stack.index.values)\n",
    "    pdg, _ = getPDGTrans(cfgname.split(\"-\")[0])\n",
    "    pdg = pdg.reindex(stack.index.values)\n",
    "    \n",
    "    res = pd.concat([pdg, deng_stack, stack], sort=False, axis=1)\n",
    "    res = dfsort(res, lambda a,b: cmpMultyStatesByCode(prefix, cfgname\n",
    "                                                      ,[name2code(i[1:-1]) for i in a]\n",
    "                                                      ,[name2code(i[1:-1]) for i in b]))\n",
    "    return res"
   ]
  },
  {
   "cell_type": "markdown",
   "metadata": {},
   "source": [
    "## Widths"
   ]
  },
  {
   "cell_type": "markdown",
   "metadata": {},
   "source": [
    "### $\\psi(1S)$ and $\\Upsilon(1S)$"
   ]
  },
  {
   "cell_type": "code",
   "execution_count": 7,
   "metadata": {
    "scrolled": false
   },
   "outputs": [
    {
     "name": "stdout",
     "output_type": "stream",
     "text": [
      "['', 'E1']\n"
     ]
    },
    {
     "data": {
      "text/html": [
       "<div>\n",
       "<style scoped>\n",
       "    .dataframe tbody tr th:only-of-type {\n",
       "        vertical-align: middle;\n",
       "    }\n",
       "\n",
       "    .dataframe tbody tr th {\n",
       "        vertical-align: top;\n",
       "    }\n",
       "\n",
       "    .dataframe thead th {\n",
       "        text-align: right;\n",
       "    }\n",
       "</style>\n",
       "<table border=\"1\" class=\"dataframe\">\n",
       "  <thead>\n",
       "    <tr style=\"text-align: right;\">\n",
       "      <th></th>\n",
       "      <th></th>\n",
       "      <th>PDG</th>\n",
       "      <th>Deng</th>\n",
       "      <th>$\\Gamma$</th>\n",
       "      <th>$r^{(0)}$</th>\n",
       "      <th>$r^{(2)}$</th>\n",
       "      <th>E1-$\\Gamma$</th>\n",
       "      <th>E1-$r^{(0)}$</th>\n",
       "      <th>E1-$r^{(2)}$</th>\n",
       "    </tr>\n",
       "    <tr>\n",
       "      <th>In</th>\n",
       "      <th>Out</th>\n",
       "      <th></th>\n",
       "      <th></th>\n",
       "      <th></th>\n",
       "      <th></th>\n",
       "      <th></th>\n",
       "      <th></th>\n",
       "      <th></th>\n",
       "      <th></th>\n",
       "    </tr>\n",
       "  </thead>\n",
       "  <tbody>\n",
       "    <tr>\n",
       "      <th>$\\psi(1S)$</th>\n",
       "      <th>$\\eta_{c}(1S)$</th>\n",
       "      <td>1.58</td>\n",
       "      <td>2.44</td>\n",
       "      <td>2.79</td>\n",
       "      <td>1</td>\n",
       "      <td>0</td>\n",
       "      <td>nan</td>\n",
       "      <td>nan</td>\n",
       "      <td>nan</td>\n",
       "    </tr>\n",
       "    <tr>\n",
       "      <th>$\\chi_{c0}(1P)$</th>\n",
       "      <th>$\\psi(1S)$</th>\n",
       "      <td>151</td>\n",
       "      <td>179</td>\n",
       "      <td>142</td>\n",
       "      <td>1</td>\n",
       "      <td>0</td>\n",
       "      <td>142</td>\n",
       "      <td>1</td>\n",
       "      <td>0</td>\n",
       "    </tr>\n",
       "    <tr>\n",
       "      <th>$\\chi_{c1}(1P)$</th>\n",
       "      <th>$\\psi(1S)$</th>\n",
       "      <td>288</td>\n",
       "      <td>319</td>\n",
       "      <td>310</td>\n",
       "      <td>0.569</td>\n",
       "      <td>0</td>\n",
       "      <td>309</td>\n",
       "      <td>0.5</td>\n",
       "      <td>0</td>\n",
       "    </tr>\n",
       "    <tr>\n",
       "      <th>$\\chi_{c2}(1P)$</th>\n",
       "      <th>$\\psi(1S)$</th>\n",
       "      <td>374</td>\n",
       "      <td>292</td>\n",
       "      <td>510</td>\n",
       "      <td>0.143</td>\n",
       "      <td>0.519</td>\n",
       "      <td>506</td>\n",
       "      <td>0.1</td>\n",
       "      <td>0.6</td>\n",
       "    </tr>\n",
       "    <tr>\n",
       "      <th>$\\eta_{c}(2S)$</th>\n",
       "      <th>$\\psi(1S)$</th>\n",
       "      <td>nan</td>\n",
       "      <td>2.29</td>\n",
       "      <td>2.91</td>\n",
       "      <td>1</td>\n",
       "      <td>0</td>\n",
       "      <td>nan</td>\n",
       "      <td>nan</td>\n",
       "      <td>nan</td>\n",
       "    </tr>\n",
       "    <tr>\n",
       "      <th>$\\chi_{c0}(2P)$</th>\n",
       "      <th>$\\psi(1S)$</th>\n",
       "      <td>nan</td>\n",
       "      <td>2.3</td>\n",
       "      <td>1.89</td>\n",
       "      <td>1</td>\n",
       "      <td>0</td>\n",
       "      <td>1.89</td>\n",
       "      <td>1</td>\n",
       "      <td>0</td>\n",
       "    </tr>\n",
       "    <tr>\n",
       "      <th>$\\chi_{c1}(2P)$</th>\n",
       "      <th>$\\psi(1S)$</th>\n",
       "      <td>nan</td>\n",
       "      <td>88</td>\n",
       "      <td>74.4</td>\n",
       "      <td>0.623</td>\n",
       "      <td>0</td>\n",
       "      <td>73.3</td>\n",
       "      <td>0.5</td>\n",
       "      <td>0</td>\n",
       "    </tr>\n",
       "    <tr>\n",
       "      <th>$\\chi_{c2}(2P)$</th>\n",
       "      <th>$\\psi(1S)$</th>\n",
       "      <td>nan</td>\n",
       "      <td>93</td>\n",
       "      <td>237</td>\n",
       "      <td>0.17</td>\n",
       "      <td>0.471</td>\n",
       "      <td>233</td>\n",
       "      <td>0.1</td>\n",
       "      <td>0.6</td>\n",
       "    </tr>\n",
       "  </tbody>\n",
       "</table>\n",
       "</div>"
      ],
      "text/plain": [
       "                                PDG  Deng  $\\Gamma$  $r^{(0)}$  $r^{(2)}$  \\\n",
       "In              Out                                                         \n",
       "$\\psi(1S)$      $\\eta_{c}(1S)$ 1.58  2.44      2.79          1          0   \n",
       "$\\chi_{c0}(1P)$ $\\psi(1S)$      151   179       142          1          0   \n",
       "$\\chi_{c1}(1P)$ $\\psi(1S)$      288   319       310      0.569          0   \n",
       "$\\chi_{c2}(1P)$ $\\psi(1S)$      374   292       510      0.143      0.519   \n",
       "$\\eta_{c}(2S)$  $\\psi(1S)$      nan  2.29      2.91          1          0   \n",
       "$\\chi_{c0}(2P)$ $\\psi(1S)$      nan   2.3      1.89          1          0   \n",
       "$\\chi_{c1}(2P)$ $\\psi(1S)$      nan    88      74.4      0.623          0   \n",
       "$\\chi_{c2}(2P)$ $\\psi(1S)$      nan    93       237       0.17      0.471   \n",
       "\n",
       "                                E1-$\\Gamma$  E1-$r^{(0)}$  E1-$r^{(2)}$  \n",
       "In              Out                                                      \n",
       "$\\psi(1S)$      $\\eta_{c}(1S)$          nan           nan           nan  \n",
       "$\\chi_{c0}(1P)$ $\\psi(1S)$              142             1             0  \n",
       "$\\chi_{c1}(1P)$ $\\psi(1S)$              309           0.5             0  \n",
       "$\\chi_{c2}(1P)$ $\\psi(1S)$              506           0.1           0.6  \n",
       "$\\eta_{c}(2S)$  $\\psi(1S)$              nan           nan           nan  \n",
       "$\\chi_{c0}(2P)$ $\\psi(1S)$             1.89             1             0  \n",
       "$\\chi_{c1}(2P)$ $\\psi(1S)$             73.3           0.5             0  \n",
       "$\\chi_{c2}(2P)$ $\\psi(1S)$              233           0.1           0.6  "
      ]
     },
     "metadata": {},
     "output_type": "display_data"
    },
    {
     "name": "stdout",
     "output_type": "stream",
     "text": [
      "['E1', 'ELW']\n"
     ]
    },
    {
     "data": {
      "text/html": [
       "<div>\n",
       "<style scoped>\n",
       "    .dataframe tbody tr th:only-of-type {\n",
       "        vertical-align: middle;\n",
       "    }\n",
       "\n",
       "    .dataframe tbody tr th {\n",
       "        vertical-align: top;\n",
       "    }\n",
       "\n",
       "    .dataframe thead th {\n",
       "        text-align: right;\n",
       "    }\n",
       "</style>\n",
       "<table border=\"1\" class=\"dataframe\">\n",
       "  <thead>\n",
       "    <tr style=\"text-align: right;\">\n",
       "      <th></th>\n",
       "      <th></th>\n",
       "      <th>PDG</th>\n",
       "      <th>Deng</th>\n",
       "      <th>E1-$\\Gamma$</th>\n",
       "      <th>E1-$r^{(0)}$</th>\n",
       "      <th>E1-$r^{(2)}$</th>\n",
       "      <th>ELW-$\\Gamma$</th>\n",
       "      <th>ELW-$r^{(0)}$</th>\n",
       "      <th>ELW-$r^{(2)}$</th>\n",
       "    </tr>\n",
       "    <tr>\n",
       "      <th>In</th>\n",
       "      <th>Out</th>\n",
       "      <th></th>\n",
       "      <th></th>\n",
       "      <th></th>\n",
       "      <th></th>\n",
       "      <th></th>\n",
       "      <th></th>\n",
       "      <th></th>\n",
       "      <th></th>\n",
       "    </tr>\n",
       "  </thead>\n",
       "  <tbody>\n",
       "    <tr>\n",
       "      <th>$\\chi_{c0}(1P)$</th>\n",
       "      <th>$\\psi(1S)$</th>\n",
       "      <td>151</td>\n",
       "      <td>179</td>\n",
       "      <td>142</td>\n",
       "      <td>1</td>\n",
       "      <td>0</td>\n",
       "      <td>183</td>\n",
       "      <td>1</td>\n",
       "      <td>0</td>\n",
       "    </tr>\n",
       "    <tr>\n",
       "      <th>$\\chi_{c1}(1P)$</th>\n",
       "      <th>$\\psi(1S)$</th>\n",
       "      <td>288</td>\n",
       "      <td>319</td>\n",
       "      <td>309</td>\n",
       "      <td>0.5</td>\n",
       "      <td>0</td>\n",
       "      <td>382</td>\n",
       "      <td>0.5</td>\n",
       "      <td>0</td>\n",
       "    </tr>\n",
       "    <tr>\n",
       "      <th>$\\chi_{c2}(1P)$</th>\n",
       "      <th>$\\psi(1S)$</th>\n",
       "      <td>374</td>\n",
       "      <td>292</td>\n",
       "      <td>506</td>\n",
       "      <td>0.1</td>\n",
       "      <td>0.6</td>\n",
       "      <td>490</td>\n",
       "      <td>0.1</td>\n",
       "      <td>0.6</td>\n",
       "    </tr>\n",
       "    <tr>\n",
       "      <th>$\\chi_{c0}(2P)$</th>\n",
       "      <th>$\\psi(1S)$</th>\n",
       "      <td>nan</td>\n",
       "      <td>2.3</td>\n",
       "      <td>1.89</td>\n",
       "      <td>1</td>\n",
       "      <td>0</td>\n",
       "      <td>3.3</td>\n",
       "      <td>1</td>\n",
       "      <td>0</td>\n",
       "    </tr>\n",
       "    <tr>\n",
       "      <th>$\\chi_{c1}(2P)$</th>\n",
       "      <th>$\\psi(1S)$</th>\n",
       "      <td>nan</td>\n",
       "      <td>88</td>\n",
       "      <td>73.3</td>\n",
       "      <td>0.5</td>\n",
       "      <td>0</td>\n",
       "      <td>51.9</td>\n",
       "      <td>0.5</td>\n",
       "      <td>0</td>\n",
       "    </tr>\n",
       "    <tr>\n",
       "      <th>$\\chi_{c2}(2P)$</th>\n",
       "      <th>$\\psi(1S)$</th>\n",
       "      <td>nan</td>\n",
       "      <td>93</td>\n",
       "      <td>233</td>\n",
       "      <td>0.1</td>\n",
       "      <td>0.6</td>\n",
       "      <td>132</td>\n",
       "      <td>0.1</td>\n",
       "      <td>0.6</td>\n",
       "    </tr>\n",
       "  </tbody>\n",
       "</table>\n",
       "</div>"
      ],
      "text/plain": [
       "                            PDG  Deng  E1-$\\Gamma$  E1-$r^{(0)}$  \\\n",
       "In              Out                                                \n",
       "$\\chi_{c0}(1P)$ $\\psi(1S)$  151   179          142             1   \n",
       "$\\chi_{c1}(1P)$ $\\psi(1S)$  288   319          309           0.5   \n",
       "$\\chi_{c2}(1P)$ $\\psi(1S)$  374   292          506           0.1   \n",
       "$\\chi_{c0}(2P)$ $\\psi(1S)$  nan   2.3         1.89             1   \n",
       "$\\chi_{c1}(2P)$ $\\psi(1S)$  nan    88         73.3           0.5   \n",
       "$\\chi_{c2}(2P)$ $\\psi(1S)$  nan    93          233           0.1   \n",
       "\n",
       "                            E1-$r^{(2)}$  ELW-$\\Gamma$  ELW-$r^{(0)}$  \\\n",
       "In              Out                                                     \n",
       "$\\chi_{c0}(1P)$ $\\psi(1S)$             0           183              1   \n",
       "$\\chi_{c1}(1P)$ $\\psi(1S)$             0           382            0.5   \n",
       "$\\chi_{c2}(1P)$ $\\psi(1S)$           0.6           490            0.1   \n",
       "$\\chi_{c0}(2P)$ $\\psi(1S)$             0           3.3              1   \n",
       "$\\chi_{c1}(2P)$ $\\psi(1S)$             0          51.9            0.5   \n",
       "$\\chi_{c2}(2P)$ $\\psi(1S)$           0.6           132            0.1   \n",
       "\n",
       "                            ELW-$r^{(2)}$  \n",
       "In              Out                        \n",
       "$\\chi_{c0}(1P)$ $\\psi(1S)$              0  \n",
       "$\\chi_{c1}(1P)$ $\\psi(1S)$              0  \n",
       "$\\chi_{c2}(1P)$ $\\psi(1S)$            0.6  \n",
       "$\\chi_{c0}(2P)$ $\\psi(1S)$              0  \n",
       "$\\chi_{c1}(2P)$ $\\psi(1S)$              0  \n",
       "$\\chi_{c2}(2P)$ $\\psi(1S)$            0.6  "
      ]
     },
     "metadata": {},
     "output_type": "display_data"
    }
   ],
   "source": [
    "for suff in [[\"\", \"E1\"], [\"E1\", \"ELW\"]]:\n",
    "    print(suff)\n",
    "    res = reportRs(\"psi_1S\", \"scr\", \"c-scr\", suffixes=suff)\n",
    "    display(res)\n",
    "    with open(\"export/width{}.psi_1S.c-scr.tex\".format(\"-\".join(suff)), \"w\") as f:\n",
    "        f.write(res.to_latex(escape=False, bold_rows=True, column_format=\"l|l|r|r|r|r|r|r|r|r\"))"
   ]
  },
  {
   "cell_type": "code",
   "execution_count": 8,
   "metadata": {},
   "outputs": [
    {
     "name": "stdout",
     "output_type": "stream",
     "text": [
      "['', 'E1']\n"
     ]
    },
    {
     "data": {
      "text/html": [
       "<div>\n",
       "<style scoped>\n",
       "    .dataframe tbody tr th:only-of-type {\n",
       "        vertical-align: middle;\n",
       "    }\n",
       "\n",
       "    .dataframe tbody tr th {\n",
       "        vertical-align: top;\n",
       "    }\n",
       "\n",
       "    .dataframe thead th {\n",
       "        text-align: right;\n",
       "    }\n",
       "</style>\n",
       "<table border=\"1\" class=\"dataframe\">\n",
       "  <thead>\n",
       "    <tr style=\"text-align: right;\">\n",
       "      <th></th>\n",
       "      <th></th>\n",
       "      <th>PDG</th>\n",
       "      <th>Deng</th>\n",
       "      <th>$\\Gamma$</th>\n",
       "      <th>$r^{(0)}$</th>\n",
       "      <th>$r^{(2)}$</th>\n",
       "      <th>E1-$\\Gamma$</th>\n",
       "      <th>E1-$r^{(0)}$</th>\n",
       "      <th>E1-$r^{(2)}$</th>\n",
       "    </tr>\n",
       "    <tr>\n",
       "      <th>In</th>\n",
       "      <th>Out</th>\n",
       "      <th></th>\n",
       "      <th></th>\n",
       "      <th></th>\n",
       "      <th></th>\n",
       "      <th></th>\n",
       "      <th></th>\n",
       "      <th></th>\n",
       "      <th></th>\n",
       "    </tr>\n",
       "  </thead>\n",
       "  <tbody>\n",
       "    <tr>\n",
       "      <th>$\\psi(1S)$</th>\n",
       "      <th>$\\eta_{c}(1S)$</th>\n",
       "      <td>1.58</td>\n",
       "      <td>2.39</td>\n",
       "      <td>2.53</td>\n",
       "      <td>1</td>\n",
       "      <td>0</td>\n",
       "      <td>nan</td>\n",
       "      <td>nan</td>\n",
       "      <td>nan</td>\n",
       "    </tr>\n",
       "    <tr>\n",
       "      <th>$\\chi_{c0}(1P)$</th>\n",
       "      <th>$\\psi(1S)$</th>\n",
       "      <td>151</td>\n",
       "      <td>172</td>\n",
       "      <td>138</td>\n",
       "      <td>1</td>\n",
       "      <td>0</td>\n",
       "      <td>138</td>\n",
       "      <td>1</td>\n",
       "      <td>0</td>\n",
       "    </tr>\n",
       "    <tr>\n",
       "      <th>$\\chi_{c1}(1P)$</th>\n",
       "      <th>$\\psi(1S)$</th>\n",
       "      <td>288</td>\n",
       "      <td>306</td>\n",
       "      <td>301</td>\n",
       "      <td>0.566</td>\n",
       "      <td>0</td>\n",
       "      <td>300</td>\n",
       "      <td>0.5</td>\n",
       "      <td>0</td>\n",
       "    </tr>\n",
       "    <tr>\n",
       "      <th>$\\chi_{c2}(1P)$</th>\n",
       "      <th>$\\psi(1S)$</th>\n",
       "      <td>374</td>\n",
       "      <td>284</td>\n",
       "      <td>490</td>\n",
       "      <td>0.141</td>\n",
       "      <td>0.523</td>\n",
       "      <td>486</td>\n",
       "      <td>0.1</td>\n",
       "      <td>0.6</td>\n",
       "    </tr>\n",
       "    <tr>\n",
       "      <th>$\\eta_{c}(2S)$</th>\n",
       "      <th>$\\psi(1S)$</th>\n",
       "      <td>nan</td>\n",
       "      <td>2.64</td>\n",
       "      <td>3.04</td>\n",
       "      <td>1</td>\n",
       "      <td>0</td>\n",
       "      <td>nan</td>\n",
       "      <td>nan</td>\n",
       "      <td>nan</td>\n",
       "    </tr>\n",
       "    <tr>\n",
       "      <th>$\\chi_{c0}(2P)$</th>\n",
       "      <th>$\\psi(1S)$</th>\n",
       "      <td>nan</td>\n",
       "      <td>6.1</td>\n",
       "      <td>2.66</td>\n",
       "      <td>1</td>\n",
       "      <td>0</td>\n",
       "      <td>2.66</td>\n",
       "      <td>1</td>\n",
       "      <td>0</td>\n",
       "    </tr>\n",
       "    <tr>\n",
       "      <th>$\\chi_{c1}(2P)$</th>\n",
       "      <th>$\\psi(1S)$</th>\n",
       "      <td>nan</td>\n",
       "      <td>81</td>\n",
       "      <td>69.1</td>\n",
       "      <td>0.616</td>\n",
       "      <td>0</td>\n",
       "      <td>68.2</td>\n",
       "      <td>0.5</td>\n",
       "      <td>0</td>\n",
       "    </tr>\n",
       "    <tr>\n",
       "      <th>$\\chi_{c2}(2P)$</th>\n",
       "      <th>$\\psi(1S)$</th>\n",
       "      <td>nan</td>\n",
       "      <td>93</td>\n",
       "      <td>231</td>\n",
       "      <td>0.166</td>\n",
       "      <td>0.477</td>\n",
       "      <td>227</td>\n",
       "      <td>0.1</td>\n",
       "      <td>0.6</td>\n",
       "    </tr>\n",
       "  </tbody>\n",
       "</table>\n",
       "</div>"
      ],
      "text/plain": [
       "                                PDG  Deng  $\\Gamma$  $r^{(0)}$  $r^{(2)}$  \\\n",
       "In              Out                                                         \n",
       "$\\psi(1S)$      $\\eta_{c}(1S)$ 1.58  2.39      2.53          1          0   \n",
       "$\\chi_{c0}(1P)$ $\\psi(1S)$      151   172       138          1          0   \n",
       "$\\chi_{c1}(1P)$ $\\psi(1S)$      288   306       301      0.566          0   \n",
       "$\\chi_{c2}(1P)$ $\\psi(1S)$      374   284       490      0.141      0.523   \n",
       "$\\eta_{c}(2S)$  $\\psi(1S)$      nan  2.64      3.04          1          0   \n",
       "$\\chi_{c0}(2P)$ $\\psi(1S)$      nan   6.1      2.66          1          0   \n",
       "$\\chi_{c1}(2P)$ $\\psi(1S)$      nan    81      69.1      0.616          0   \n",
       "$\\chi_{c2}(2P)$ $\\psi(1S)$      nan    93       231      0.166      0.477   \n",
       "\n",
       "                                E1-$\\Gamma$  E1-$r^{(0)}$  E1-$r^{(2)}$  \n",
       "In              Out                                                      \n",
       "$\\psi(1S)$      $\\eta_{c}(1S)$          nan           nan           nan  \n",
       "$\\chi_{c0}(1P)$ $\\psi(1S)$              138             1             0  \n",
       "$\\chi_{c1}(1P)$ $\\psi(1S)$              300           0.5             0  \n",
       "$\\chi_{c2}(1P)$ $\\psi(1S)$              486           0.1           0.6  \n",
       "$\\eta_{c}(2S)$  $\\psi(1S)$              nan           nan           nan  \n",
       "$\\chi_{c0}(2P)$ $\\psi(1S)$             2.66             1             0  \n",
       "$\\chi_{c1}(2P)$ $\\psi(1S)$             68.2           0.5             0  \n",
       "$\\chi_{c2}(2P)$ $\\psi(1S)$              227           0.1           0.6  "
      ]
     },
     "metadata": {},
     "output_type": "display_data"
    },
    {
     "name": "stdout",
     "output_type": "stream",
     "text": [
      "['E1', 'ELW']\n"
     ]
    },
    {
     "data": {
      "text/html": [
       "<div>\n",
       "<style scoped>\n",
       "    .dataframe tbody tr th:only-of-type {\n",
       "        vertical-align: middle;\n",
       "    }\n",
       "\n",
       "    .dataframe tbody tr th {\n",
       "        vertical-align: top;\n",
       "    }\n",
       "\n",
       "    .dataframe thead th {\n",
       "        text-align: right;\n",
       "    }\n",
       "</style>\n",
       "<table border=\"1\" class=\"dataframe\">\n",
       "  <thead>\n",
       "    <tr style=\"text-align: right;\">\n",
       "      <th></th>\n",
       "      <th></th>\n",
       "      <th>PDG</th>\n",
       "      <th>Deng</th>\n",
       "      <th>E1-$\\Gamma$</th>\n",
       "      <th>E1-$r^{(0)}$</th>\n",
       "      <th>E1-$r^{(2)}$</th>\n",
       "      <th>ELW-$\\Gamma$</th>\n",
       "      <th>ELW-$r^{(0)}$</th>\n",
       "      <th>ELW-$r^{(2)}$</th>\n",
       "    </tr>\n",
       "    <tr>\n",
       "      <th>In</th>\n",
       "      <th>Out</th>\n",
       "      <th></th>\n",
       "      <th></th>\n",
       "      <th></th>\n",
       "      <th></th>\n",
       "      <th></th>\n",
       "      <th></th>\n",
       "      <th></th>\n",
       "      <th></th>\n",
       "    </tr>\n",
       "  </thead>\n",
       "  <tbody>\n",
       "    <tr>\n",
       "      <th>$\\chi_{c0}(1P)$</th>\n",
       "      <th>$\\psi(1S)$</th>\n",
       "      <td>151</td>\n",
       "      <td>172</td>\n",
       "      <td>138</td>\n",
       "      <td>1</td>\n",
       "      <td>0</td>\n",
       "      <td>177</td>\n",
       "      <td>1</td>\n",
       "      <td>0</td>\n",
       "    </tr>\n",
       "    <tr>\n",
       "      <th>$\\chi_{c1}(1P)$</th>\n",
       "      <th>$\\psi(1S)$</th>\n",
       "      <td>288</td>\n",
       "      <td>306</td>\n",
       "      <td>300</td>\n",
       "      <td>0.5</td>\n",
       "      <td>0</td>\n",
       "      <td>367</td>\n",
       "      <td>0.5</td>\n",
       "      <td>0</td>\n",
       "    </tr>\n",
       "    <tr>\n",
       "      <th>$\\chi_{c2}(1P)$</th>\n",
       "      <th>$\\psi(1S)$</th>\n",
       "      <td>374</td>\n",
       "      <td>284</td>\n",
       "      <td>486</td>\n",
       "      <td>0.1</td>\n",
       "      <td>0.6</td>\n",
       "      <td>471</td>\n",
       "      <td>0.1</td>\n",
       "      <td>0.6</td>\n",
       "    </tr>\n",
       "    <tr>\n",
       "      <th>$\\chi_{c0}(2P)$</th>\n",
       "      <th>$\\psi(1S)$</th>\n",
       "      <td>nan</td>\n",
       "      <td>6.1</td>\n",
       "      <td>2.66</td>\n",
       "      <td>1</td>\n",
       "      <td>0</td>\n",
       "      <td>1.66</td>\n",
       "      <td>1</td>\n",
       "      <td>0</td>\n",
       "    </tr>\n",
       "    <tr>\n",
       "      <th>$\\chi_{c1}(2P)$</th>\n",
       "      <th>$\\psi(1S)$</th>\n",
       "      <td>nan</td>\n",
       "      <td>81</td>\n",
       "      <td>68.2</td>\n",
       "      <td>0.5</td>\n",
       "      <td>0</td>\n",
       "      <td>46.4</td>\n",
       "      <td>0.5</td>\n",
       "      <td>0</td>\n",
       "    </tr>\n",
       "    <tr>\n",
       "      <th>$\\chi_{c2}(2P)$</th>\n",
       "      <th>$\\psi(1S)$</th>\n",
       "      <td>nan</td>\n",
       "      <td>93</td>\n",
       "      <td>227</td>\n",
       "      <td>0.1</td>\n",
       "      <td>0.6</td>\n",
       "      <td>129</td>\n",
       "      <td>0.1</td>\n",
       "      <td>0.6</td>\n",
       "    </tr>\n",
       "  </tbody>\n",
       "</table>\n",
       "</div>"
      ],
      "text/plain": [
       "                            PDG  Deng  E1-$\\Gamma$  E1-$r^{(0)}$  \\\n",
       "In              Out                                                \n",
       "$\\chi_{c0}(1P)$ $\\psi(1S)$  151   172          138             1   \n",
       "$\\chi_{c1}(1P)$ $\\psi(1S)$  288   306          300           0.5   \n",
       "$\\chi_{c2}(1P)$ $\\psi(1S)$  374   284          486           0.1   \n",
       "$\\chi_{c0}(2P)$ $\\psi(1S)$  nan   6.1         2.66             1   \n",
       "$\\chi_{c1}(2P)$ $\\psi(1S)$  nan    81         68.2           0.5   \n",
       "$\\chi_{c2}(2P)$ $\\psi(1S)$  nan    93          227           0.1   \n",
       "\n",
       "                            E1-$r^{(2)}$  ELW-$\\Gamma$  ELW-$r^{(0)}$  \\\n",
       "In              Out                                                     \n",
       "$\\chi_{c0}(1P)$ $\\psi(1S)$             0           177              1   \n",
       "$\\chi_{c1}(1P)$ $\\psi(1S)$             0           367            0.5   \n",
       "$\\chi_{c2}(1P)$ $\\psi(1S)$           0.6           471            0.1   \n",
       "$\\chi_{c0}(2P)$ $\\psi(1S)$             0          1.66              1   \n",
       "$\\chi_{c1}(2P)$ $\\psi(1S)$             0          46.4            0.5   \n",
       "$\\chi_{c2}(2P)$ $\\psi(1S)$           0.6           129            0.1   \n",
       "\n",
       "                            ELW-$r^{(2)}$  \n",
       "In              Out                        \n",
       "$\\chi_{c0}(1P)$ $\\psi(1S)$              0  \n",
       "$\\chi_{c1}(1P)$ $\\psi(1S)$              0  \n",
       "$\\chi_{c2}(1P)$ $\\psi(1S)$            0.6  \n",
       "$\\chi_{c0}(2P)$ $\\psi(1S)$              0  \n",
       "$\\chi_{c1}(2P)$ $\\psi(1S)$              0  \n",
       "$\\chi_{c2}(2P)$ $\\psi(1S)$            0.6  "
      ]
     },
     "metadata": {},
     "output_type": "display_data"
    }
   ],
   "source": [
    "for suff in [[\"\", \"E1\"], [\"E1\", \"ELW\"]]:\n",
    "    print(suff)\n",
    "    res = reportRs(\"psi_1S\", \"lin\", \"c-lin\", suffixes=suff)\n",
    "    display(res)\n",
    "    with open(\"export/width{}.psi_1S.c-lin.tex\".format(\"-\".join(suff)), \"w\") as f:\n",
    "        f.write(res.to_latex(escape=False, bold_rows=True, column_format=\"l|l|r|r|r|r|r|r|r|r\"))"
   ]
  },
  {
   "cell_type": "code",
   "execution_count": null,
   "metadata": {
    "scrolled": false
   },
   "outputs": [],
   "source": [
    "for suff in [[\"\", \"E1\"], [\"E1\", \"ELW\"]]:\n",
    "    print(suff)\n",
    "    res = reportRs(\"yps_1S\", \"scr\", \"b-scr\", suffixes=suff)\n",
    "    display(res)\n",
    "    with open(\"export/width{}.yps_1S.b-scr.tex\".format(\"-\".join(suff)), \"w\") as f:\n",
    "        f.write(res.to_latex(escape=False, bold_rows=True, column_format=\"l|l|r|r|r|r|r|r|r|r\"))"
   ]
  },
  {
   "cell_type": "markdown",
   "metadata": {},
   "source": [
    "### $\\psi(2S)$ and $\\Upsilon(2S)$"
   ]
  },
  {
   "cell_type": "code",
   "execution_count": null,
   "metadata": {},
   "outputs": [],
   "source": [
    "for suff in [[\"\", \"E1\"], [\"E1\", \"ELW\"]]:\n",
    "    print(suff)\n",
    "    res = reportRs(\"psi_2S\", \"scr\", \"c-scr\", suffixes=suff)\n",
    "    display(res)\n",
    "    with open(\"export/width{}.psi_2S.c-scr.tex\".format(\"-\".join(suff)), \"w\") as f:\n",
    "        f.write(res.to_latex(escape=False, bold_rows=True, column_format=\"l|l|r|r|r|r|r|r|r|r\"))"
   ]
  },
  {
   "cell_type": "code",
   "execution_count": null,
   "metadata": {},
   "outputs": [],
   "source": [
    "for suff in [[\"\", \"E1\"], [\"E1\", \"ELW\"]]:\n",
    "    print(suff)\n",
    "    res = reportRs(\"psi_2S\", \"lin\", \"c-lin\", suffixes=suff)\n",
    "    display(res)\n",
    "    with open(\"export/width{}.psi_2S.c-lin.tex\".format(\"-\".join(suff)), \"w\") as f:\n",
    "        f.write(res.to_latex(escape=False, bold_rows=True, column_format=\"l|l|r|r|r|r|r|r|r|r\"))"
   ]
  },
  {
   "cell_type": "code",
   "execution_count": null,
   "metadata": {
    "scrolled": false
   },
   "outputs": [],
   "source": [
    "for suff in [[\"\", \"E1\"], [\"E1\", \"ELW\"]]:\n",
    "    print(suff)\n",
    "    res = reportRs(\"yps_2S\", \"scr\", \"b-scr\", suffixes=suff)\n",
    "    display(res)\n",
    "    with open(\"export/width{}.yps_2S.b-scr.tex\".format(\"-\".join(suff)), \"w\") as f:\n",
    "        f.write(res.to_latex(escape=False, bold_rows=True, column_format=\"l|l|r|r|r|r|r|r|r|r\"))"
   ]
  },
  {
   "cell_type": "markdown",
   "metadata": {},
   "source": [
    "### $\\psi(3S)$ and $\\Upsilon(3S)$"
   ]
  },
  {
   "cell_type": "code",
   "execution_count": null,
   "metadata": {},
   "outputs": [],
   "source": [
    "for suff in [[\"\", \"E1\"], [\"E1\", \"ELW\"]]:\n",
    "    print(suff)\n",
    "    res = reportRs(\"psi_3S\", \"scr\", \"c-scr\", suffixes=suff)\n",
    "    display(res)\n",
    "    with open(\"export/width{}.psi_3S.c-scr.tex\".format(\"-\".join(suff)), \"w\") as f:\n",
    "        f.write(res.to_latex(escape=False, bold_rows=True, column_format=\"l|l|r|r|r|r|r|r|r|r\"))"
   ]
  },
  {
   "cell_type": "code",
   "execution_count": null,
   "metadata": {},
   "outputs": [],
   "source": [
    "for suff in [[\"\", \"E1\"], [\"E1\", \"ELW\"]]:\n",
    "    print(suff)\n",
    "    res = reportRs(\"psi_3S\", \"lin\", \"c-lin\", suffixes=suff)\n",
    "    display(res)\n",
    "    with open(\"export/width{}.psi_3S.c-lin.tex\".format(\"-\".join(suff)), \"w\") as f:\n",
    "        f.write(res.to_latex(escape=False, bold_rows=True, column_format=\"l|l|r|r|r|r|r|r|r|r\"))"
   ]
  },
  {
   "cell_type": "code",
   "execution_count": null,
   "metadata": {
    "scrolled": true
   },
   "outputs": [],
   "source": [
    "for suff in [[\"\", \"E1\"], [\"E1\", \"ELW\"]]:\n",
    "    print(suff)\n",
    "    res = reportRs(\"yps_3S\", \"scr\", \"b-scr\", suffixes=suff)\n",
    "    display(res)\n",
    "    with open(\"export/width{}.yps_3S.b-scr.tex\".format(\"-\".join(suff)), \"w\") as f:\n",
    "        f.write(res.to_latex(escape=False, bold_rows=True, column_format=\"l|l|r|r|r|r|r|r|r|r\"))"
   ]
  },
  {
   "cell_type": "markdown",
   "metadata": {},
   "source": [
    "### $\\psi_1(1D)$ which is $\\psi(3770)$"
   ]
  },
  {
   "cell_type": "code",
   "execution_count": null,
   "metadata": {},
   "outputs": [],
   "source": [
    "for suff in [[\"\", \"E1\"], [\"E1\", \"ELW\"]]:\n",
    "    print(suff)\n",
    "    res = reportRs(\"psi_1_1D\", \"scr\", \"c-scr\", suffixes=suff)\n",
    "    display(res)\n",
    "    with open(\"export/width{}.psi_1_1D.c-scr.tex\".format(\"-\".join(suff)), \"w\") as f:\n",
    "        f.write(res.to_latex(escape=False, bold_rows=True, column_format=\"l|l|r|r|r|r|r|r|r|r\"))"
   ]
  },
  {
   "cell_type": "code",
   "execution_count": null,
   "metadata": {},
   "outputs": [],
   "source": [
    "for suff in [[\"\", \"E1\"], [\"E1\", \"ELW\"]]:\n",
    "    print(suff)\n",
    "    res = reportRs(\"psi_1_1D\", \"lin\", \"c-lin\", suffixes=suff)\n",
    "    display(res)\n",
    "    with open(\"export/width{}.psi_1_1D.c-lin.tex\".format(\"-\".join(suff)), \"w\") as f:\n",
    "        f.write(res.to_latex(escape=False, bold_rows=True, column_format=\"l|l|r|r|r|r|r|r|r|r\"))"
   ]
  },
  {
   "cell_type": "markdown",
   "metadata": {},
   "source": [
    "## Sumrules for the thesis"
   ]
  },
  {
   "cell_type": "code",
   "execution_count": 8,
   "metadata": {},
   "outputs": [],
   "source": [
    "def getMasses(prefix, cfgname):\n",
    "    # return masses in MeV\n",
    "    with open(\"../quarkEigen/output/{}.{}/config\".format(prefix, cfgname), \"r\") as f:\n",
    "        mass_cfg = json.load(f, object_pairs_hook=OrderedDict)\n",
    "    with open(\"../quarkEigen/output/{}.{}/exclude\".format(prefix, cfgname), \"r\") as f:\n",
    "        mass_excl = f.read().split(\"\\n\")\n",
    "    mass_data = OrderedDict()\n",
    "    for particle, pdata in mass_cfg.items():\n",
    "        if particle not in mass_excl:\n",
    "            continue\n",
    "        energ_data = pd.read_csv(\"../quarkEigen/output/{}.{}/data/{}/minE.dat\".format(prefix, cfgname, particle))\\\n",
    "                     .iloc[-1, 1]\n",
    "        energ = pdata[\"eq\"][\"env\"][\"mC\"]*2 + energ_data\n",
    "        mass_data.update({particle: energ})\n",
    "    mass_data = pd.DataFrame.from_dict(mass_data, orient=\"index\")\n",
    "    mass_data.columns = [\"E\"]\n",
    "    mass_data[\"E\"] *= dimTrans(\"GeV\", \"MeV\")\n",
    "    pdg_spec = readSpec(\"../data/{}-spectrum.csv\".format(cfgname.split(\"-\")[0]))[\"PDG\"]\n",
    "    pdg = pd.read_csv(\"../data/{}-spectrum.csv\".format(cfgname.split(\"-\")[0]), header=0, index_col=0, comment=\"#\")[\"PDG\"]\\\n",
    "        *dimTrans(pdg_spec[\"tags\"][0], \"MeV\")\n",
    "    pdg = pdg.loc[pdg.index.intersection(mass_data.index).values]\n",
    "    \n",
    "    pdg_err_spec = readSpec(\"../data/{}-spectrum.err.csv\".format(cfgname.split(\"-\")[0]))[\"PDG\"]\n",
    "    pdg_err = pd.read_csv( \"../data/{}-spectrum.err.csv\".format(cfgname.split(\"-\")[0]) \\\n",
    "                          , header=0\\\n",
    "                          , index_col=0\\\n",
    "                          , comment=\"#\")[\"PDG\"] * dimTrans(pdg_err_spec[\"tags\"][0], \"MeV\")\n",
    "    pdg_err = pdg_err.loc[pdg_err.index.intersection(pdg.index).values]\n",
    "    \n",
    "    mass_data[\"Emix\"] = mass_data[[\"E\"]]\n",
    "    mass_data.loc[~pd.isna(pdg), \"Emix\"] = pdg.loc[~pd.isna(pdg)]\n",
    "    mass_data[\"PDG\"] = pdg\n",
    "    \n",
    "    mass_data_err = mass_data*sp.nan\n",
    "    mass_data_err[\"PDG\"] = pdg_err\n",
    "    mass_data_err.loc[~pd.isna(pdg), \"Emix\"] = pdg_err.loc[~pd.isna(pdg)]\n",
    "    \n",
    "    mass_data.index = pd.Index([\"${}$\".format(code2name(k)) for k in mass_data.index.values], name=\"States\")\n",
    "    mass_data_err.index = mass_data.index.copy()\n",
    "    \n",
    "    return mass_data, mass_data_err.abs()"
   ]
  },
  {
   "cell_type": "code",
   "execution_count": 9,
   "metadata": {},
   "outputs": [],
   "source": [
    "def getPprops(prefix, cfgname):\n",
    "    with open(\"../quarkEigen/output/{}.{}/config\".format(prefix, cfgname), \"r\") as f:\n",
    "        pprops = json.load(f, object_pairs_hook=OrderedDict)\n",
    "    props = pd.DataFrame(OrderedDict([(particle, values[\"eq\"]) for particle, values in pprops.items()])).T\n",
    "    props.drop(columns=[\"env\", \"E\"], inplace=True)\n",
    "    props.index = pd.Index([r\"${}$\".format(code2name(particle)) for particle in pprops.keys()], name=\"States\")\n",
    "    props = props.apply(pd.to_numeric, axis=0)\n",
    "    return props"
   ]
  },
  {
   "cell_type": "code",
   "execution_count": 10,
   "metadata": {},
   "outputs": [],
   "source": [
    "def getSumrule(pname, prefix, cfgname, suffix=\"\"):\n",
    "    msuffix = \"\" if suffix == \"\" else suffix+\"-\" \n",
    "    pretty_pname = \"${}$\".format(code2name(pname))\n",
    "    \n",
    "    widths = reportRs(pname, prefix, cfgname, [suffix])\n",
    "    masses = getMasses(prefix, cfgname)[0][[\"Emix\"]].rename(columns={\"Emix\": \"E\"})\n",
    "    pprops = getPprops(prefix, cfgname)\n",
    "    \n",
    "    sumrule = []\n",
    "\n",
    "    abovethr = [p[0] for p in widths.query(\"Out == r'{}'\".format(pretty_pname)).index.values]\n",
    "    sumrule.append(\n",
    "        8*sp.pi**2*masses.loc[abovethr, \"E\"]**3\\\n",
    "        /(masses.loc[abovethr, \"E\"]**2 - masses.loc[pretty_pname, \"E\"]**2)**3\\\n",
    "        *pprops.loc[abovethr, \"xJ\"]\n",
    "    )\n",
    "    sumrule[0].index = pd.Index([(v, pretty_pname) for v in sumrule[0].index.values])\n",
    "    \n",
    "    belowthr = [p[1] for p in widths.query(\"In == r'{}'\".format(pretty_pname)).index.values]\n",
    "    sumrule.append(\n",
    "        8*sp.pi**2*masses.loc[pretty_pname, \"E\"]**3\\\n",
    "        /(masses.loc[pretty_pname, \"E\"]**2 - masses.loc[belowthr, \"E\"]**2)**3\\\n",
    "        *pprops.loc[pretty_pname, \"xJ\"]\n",
    "    )\n",
    "    sumrule[1].index = pd.Index([(pretty_pname, v) for v in sumrule[1].index.values])\n",
    "    sr = pd.concat(sumrule)*(0.19732697)**2*10**4*10**3\n",
    "    sr = sr.reindex(widths.index.values)\n",
    "    \n",
    "    widths[\"$SR-PDG$\"] = widths[\"PDG\"].values\n",
    "    if sp.any(pd.isna(widths[\"PDG\"])):\n",
    "        widths.loc[pd.isna(widths[\"PDG\"]), \"$SR-PDG$\"] = widths.loc[pd.isna(widths[\"PDG\"]).index.values, msuffix+\"$\\Gamma$\"]\n",
    "    widths.loc[:, \"$SR-PDG$\"] *= sr*(widths.loc[:, msuffix+\"$r^{(2)}$\"] - widths.loc[:, msuffix+\"$r^{(0)}$\"])\n",
    "    \n",
    "    widths[\"$SR-Deng$\"] = widths[\"Deng\"]\n",
    "    if sp.any(pd.isna(widths[\"Deng\"])):\n",
    "        widths.loc[pd.isna(widths[\"Deng\"]), \"$SR-Deng$\"] = widths.loc[pd.isna(widths[\"Deng\"]).index.values, msuffix+\"$\\Gamma$\"]\n",
    "    widths.loc[:, \"$SR-Deng$\"] *= sr*(widths.loc[:, msuffix+\"$r^{(2)}$\"] - widths.loc[:, msuffix+\"$r^{(0)}$\"])\n",
    "    \n",
    "    widths[\"$SR-\\Gamma$\"] = widths[msuffix+\"$\\Gamma$\"]*sr*(widths.loc[:, msuffix+\"$r^{(2)}$\"] - widths.loc[:, msuffix+\"$r^{(0)}$\"])\n",
    "    \n",
    "    widths.drop(columns=[msuffix+'$r^{(2)}$', msuffix+'$r^{(0)}$'], inplace=True)\n",
    "    widths = widths[[widths.columns[i] for i in [0, 3, 1, 4, 2, 5]]]\n",
    "    widths = dfsort(widths, lambda a,b: cmpMultyStatesByCode(prefix, cfgname\n",
    "                                                         ,[name2code(i[1:-1]) for i in a]\n",
    "                                                         ,[name2code(i[1:-1]) for i in b]))\n",
    "    \n",
    "    sigma = (widths[\"$SR-Deng$\"] - widths[\"$SR-\\Gamma$\"]).std()\n",
    "    \n",
    "    return widths, pd.DataFrame(widths[[\"$SR-PDG$\", \"$SR-Deng$\", \"$SR-\\Gamma$\"]].sum().rename(\"$SR$\")), sigma"
   ]
  },
  {
   "cell_type": "code",
   "execution_count": 11,
   "metadata": {},
   "outputs": [],
   "source": [
    "def reportSumrules(pname, prefix, cfgname, suffixes=(\"\", \"E1\", \"ELW\"), sigma=0):\n",
    "    if sigma is not None:\n",
    "        try:\n",
    "            sigma = list(sigma)\n",
    "        except TypeError:\n",
    "            sigma = [sigma]*len(suffixes)\n",
    "        sigma = dict(zip(suffixes, sigma))\n",
    "    for approx in suffixes:\n",
    "        report, sr, autosigma = getSumrule(pname, prefix, cfgname, approx)\n",
    "        sigma[approx] = autosigma if sigma[approx] == 0 else sigma[approx]\n",
    "        \n",
    "        tab = Tabular(\"|l|l|c|c|c|c|c|c|\")\n",
    "        \n",
    "        # Header\n",
    "        tab.add_hline()\n",
    "        tab.add_row([\"\", \"\"] + [NoEscape(i) for i in report.columns])\n",
    "        tab.add_row([NoEscape(i) for i in report.index.names] + [\"\"]*6)\n",
    "        tab.add_hline()\n",
    "        \n",
    "        curN = \"1\"\n",
    "        tot = report.iloc[0, 1::2].fillna(0)*0\n",
    "        getN = re.compile(\"\\((\\d+)[A-Z]\\)\\$$\")\n",
    "        for entry in report.index.values:\n",
    "            # Manage subtotals\n",
    "            label = entry[0] if entry[0] != \"${}$\".format(code2name(pname)) else entry[1]\n",
    "            newN = getN.search(label).groups()[0]\n",
    "            if newN != curN:\n",
    "                tab.add_hline()\n",
    "                tab.add_hline()\n",
    "                try:\n",
    "                    tab.add_row([MultiColumn(2, align=\"|c|\", data=\"Subtotal\")] +\\\n",
    "                            [MultiColumn(2, align=\"|r|\", data=NoEscape(\"${:.2f} ({:.2f}\\sigma)$\".format(num, num/sigma[approx]))) for num in tot])\n",
    "                except:\n",
    "                    tab.add_row([MultiColumn(2, align=\"|c|\", data=\"Subtotal\")] +\\\n",
    "                            [MultiColumn(2, align=\"|r|\", data=\"{:.2f}\".format(num)) for num in tot])                \n",
    "                tab.add_hline()\n",
    "                tab.add_hline()\n",
    "                tot = report.loc[entry].fillna(0).values[1::2]\n",
    "                curN = newN\n",
    "            else:\n",
    "                tot += report.loc[entry].fillna(0).values[1::2]\n",
    "            \n",
    "            # Regular entry\n",
    "            tab.add_row([NoEscape(i) for i in list(entry) + [\"{:.2f}\".format(num) for num in report.loc[entry]]])\n",
    "            \n",
    "        # Final subtotal\n",
    "        tab.add_hline()\n",
    "        tab.add_hline()\n",
    "        try:\n",
    "            tab.add_row([MultiColumn(2, align=\"|c|\", data=\"Subtotal\")] +\\\n",
    "                    [MultiColumn(2, align=\"|r|\", data=NoEscape(\"${:.2f}~({:.2f}\\sigma)$\".format(num, num/sigma[approx]))) for num in tot])\n",
    "        except:\n",
    "            tab.add_row([MultiColumn(2, align=\"|c|\", data=\"Subtotal\")] +\\\n",
    "                    [MultiColumn(2, align=\"|r|\", data=\"{:.2f}\".format(num)) for num in tot])                \n",
    "        tab.add_hline()\n",
    "        tab.add_hline()\n",
    "        \n",
    "        # Total\n",
    "        try:\n",
    "            tab.add_row([MultiColumn(2, align=\"|c|\", data=\"Total\")] +\\\n",
    "                    [MultiColumn(2, align=\"|r|\", data=NoEscape(\"${:.2f}~({:.2f}\\sigma)$\".format(num, num/sigma[approx]))) for num in sr.iloc[:, 0]])\n",
    "        except:\n",
    "            tab.add_row([MultiColumn(2, align=\"|c|\", data=\"Total\")] +\\\n",
    "                    [MultiColumn(2, align=\"|r|\", data=\"{:.2f}\".format(num)) for num in sr.iloc[:, 0]])                \n",
    "        tab.add_hline()\n",
    "        \n",
    "        # with open(\"export/sr{}.{}.{}.tex\".format(approx, pname, cfgcode), \"w\") as f:\n",
    "        #     f.write(sr.to_latex(escape=False, bold_rows=True, column_format=\"l|c\"))\n",
    "        # with open(\"export/sr{}-report.{}.{}.tex\".format(approx, pname, cfgcode), \"w\") as f:\n",
    "        #     f.write(report.to_latex(escape=False, bold_rows=True, column_format=\"l|l|c|c|c|c|c|c\"))\n",
    "        tab.generate_tex(\"export/sr{}-report.{}.{}\".format(approx, pname, cfgname))"
   ]
  },
  {
   "cell_type": "markdown",
   "metadata": {},
   "source": [
    "## Bottomonium sumrules"
   ]
  },
  {
   "cell_type": "markdown",
   "metadata": {},
   "source": [
    "### $\\Upsilon(1S)$"
   ]
  },
  {
   "cell_type": "code",
   "execution_count": 106,
   "metadata": {
    "scrolled": false
   },
   "outputs": [],
   "source": [
    "reportSumrules(\"yps_1S\", \"scr\", \"b-scr\", sigma=[0]*3)"
   ]
  },
  {
   "cell_type": "markdown",
   "metadata": {},
   "source": [
    "### $\\Upsilon(2S)$"
   ]
  },
  {
   "cell_type": "code",
   "execution_count": 107,
   "metadata": {},
   "outputs": [],
   "source": [
    "reportSumrules(\"yps_2S\", \"scr\", \"b-scr\", sigma=[0]*3)"
   ]
  },
  {
   "cell_type": "markdown",
   "metadata": {},
   "source": [
    "### $\\Upsilon(3S)$"
   ]
  },
  {
   "cell_type": "code",
   "execution_count": 108,
   "metadata": {},
   "outputs": [],
   "source": [
    "reportSumrules(\"yps_3S\", \"scr\", \"b-scr\")"
   ]
  },
  {
   "cell_type": "markdown",
   "metadata": {},
   "source": [
    "## Charmonium sumrules"
   ]
  },
  {
   "cell_type": "markdown",
   "metadata": {},
   "source": [
    "### $\\psi(1S)$"
   ]
  },
  {
   "cell_type": "code",
   "execution_count": 109,
   "metadata": {},
   "outputs": [],
   "source": [
    "reportSumrules(\"psi_1S\", \"scr\", \"c-scr\", sigma=6.7)"
   ]
  },
  {
   "cell_type": "code",
   "execution_count": 110,
   "metadata": {},
   "outputs": [],
   "source": [
    "reportSumrules(\"psi_1S\", \"lin\", \"c-lin\", sigma=6.7)"
   ]
  },
  {
   "cell_type": "markdown",
   "metadata": {},
   "source": [
    "### $\\psi(2S)$"
   ]
  },
  {
   "cell_type": "code",
   "execution_count": 111,
   "metadata": {
    "scrolled": true
   },
   "outputs": [],
   "source": [
    "reportSumrules(\"psi_2S\", \"scr\", \"c-scr\", sigma=16.6)"
   ]
  },
  {
   "cell_type": "code",
   "execution_count": 112,
   "metadata": {},
   "outputs": [],
   "source": [
    "reportSumrules(\"psi_2S\", \"lin\", \"c-lin\", sigma=16.6)"
   ]
  },
  {
   "cell_type": "markdown",
   "metadata": {},
   "source": [
    "### $\\psi(3S)$"
   ]
  },
  {
   "cell_type": "code",
   "execution_count": 113,
   "metadata": {},
   "outputs": [],
   "source": [
    "reportSumrules(\"psi_3S\", \"scr\", \"c-scr\")"
   ]
  },
  {
   "cell_type": "code",
   "execution_count": 114,
   "metadata": {},
   "outputs": [],
   "source": [
    "reportSumrules(\"psi_3S\", \"lin\", \"c-lin\")"
   ]
  },
  {
   "cell_type": "code",
   "execution_count": 115,
   "metadata": {},
   "outputs": [],
   "source": [
    "reportSumrules(\"psi_1_1D\", \"scr\", \"c-scr\", sigma=[0]*3)"
   ]
  },
  {
   "cell_type": "code",
   "execution_count": 116,
   "metadata": {},
   "outputs": [],
   "source": [
    "reportSumrules(\"psi_1_1D\", \"lin\", \"c-lin\")"
   ]
  },
  {
   "cell_type": "markdown",
   "metadata": {},
   "source": [
    "## Sumrules for the article"
   ]
  },
  {
   "cell_type": "code",
   "execution_count": 12,
   "metadata": {},
   "outputs": [],
   "source": [
    "def getE1Widths(pname, prefix, cfgname):\n",
    "    my_E1 = getRs(pname, prefix, cfgname, suffix=\"E1\")\n",
    "    my_E1.rename(columns={\"$\\Gamma$\": \"E1\", \"$r^{(0)}$\": \"r0\", \"$r^{(2)}$\": \"r2\"}, inplace=True)\n",
    "    deng = pd.concat([getDengTrans(prefix, cfg) for\\\n",
    "                          cfg in data_pack[cfgname.split(\"-\")[0]]\n",
    "                     ], sort=False, axis=0)\n",
    "    pdg, pdg_err = getPDGTrans(cfgname.split(\"-\")[0])\n",
    "    pdg = pdg.reindex(my_E1.index)\n",
    "    pdg_err = pdg_err.reindex(my_E1.index)\n",
    "    deng = deng.drop(columns=\"Deng\").reindex(my_E1.index.values)\n",
    "    deng[\"E1_min\"] = deng.join(my_E1[[\"E1\"]]).min(axis=1)\n",
    "    deng[\"E1_max\"] = deng.join(my_E1[[\"E1\"]]).max(axis=1)\n",
    "    deng = deng[[\"E1_min\", \"E1_max\"]]\n",
    "    res = pd.concat([pdg, my_E1, deng], axis=1)\n",
    "    err = res*sp.nan\n",
    "    err[\"PDG\"] = pdg_err\n",
    "    return res, err.abs()"
   ]
  },
  {
   "cell_type": "code",
   "execution_count": 13,
   "metadata": {},
   "outputs": [],
   "source": [
    "def getFullWidths(pname, prefix, cfgname):\n",
    "    my = getRs(pname, prefix, cfgname, suffix=\"\")\n",
    "    my.rename(columns={\"$\\Gamma$\": \"Full\", \"$r^{(0)}$\": \"r0\", \"$r^{(2)}$\": \"r2\"}, inplace=True)\n",
    "    deng = pd.concat([getDengTrans(prefix, cfg) for\\\n",
    "                          cfg in data_pack[cfgname.split(\"-\")[0]]\n",
    "                     ], sort=False, axis=0)\n",
    "    pdg, pdg_err = getPDGTrans(cfgname.split(\"-\")[0])\n",
    "    pdg = pdg.reindex(my.index)\n",
    "    pdg_err = pdg_err.reindex(my.index)\n",
    "    deng = deng[[\"Deng\"]].reindex(my.index.values)\n",
    "    res = pd.concat([pdg, my, deng], axis=1)\n",
    "    err = res*sp.nan\n",
    "    err[\"PDG\"] = pdg_err\n",
    "    return res, err.abs()"
   ]
  },
  {
   "cell_type": "code",
   "execution_count": 14,
   "metadata": {},
   "outputs": [],
   "source": [
    "def getArtSumrule(pname, prefix, cfgname):\n",
    "    pretty_pname = \"${}$\".format(code2name(pname))\n",
    "    \n",
    "    widths, widths_err = getE1Widths(pname, prefix, cfgname)\n",
    "    masses = getMasses(prefix, cfgname)[0][[\"Emix\"]].rename(columns={\"Emix\": \"E\"})\n",
    "    pprops = getPprops(prefix, cfgname)\n",
    "    \n",
    "    sumrule_prefactors = []\n",
    "    \n",
    "    abovethr = widths.query(\"Out == r'{}'\".format(pretty_pname))\n",
    "    abovethr_pcls = [p[0] for p in abovethr.index.values]\n",
    "    sumrule_prefactors.append(\n",
    "        8*sp.pi**2*masses.loc[abovethr_pcls, \"E\"]**3\\\n",
    "        /(masses.loc[abovethr_pcls, \"E\"]**2 - masses.loc[pretty_pname, \"E\"]**2)**3\\\n",
    "        *pprops.loc[abovethr_pcls, \"xJ\"]\n",
    "    )\n",
    "    sumrule_prefactors[0].index = pd.Index([(v, pretty_pname) for v in sumrule_prefactors[0].index.values])\n",
    "    \n",
    "    belowthr = widths.query(\"In == r'{}'\".format(pretty_pname))\n",
    "    belowthr_pcls = [p[1] for p in belowthr.index.values]\n",
    "    sumrule_prefactors.append(\n",
    "        8*sp.pi**2*masses.loc[pretty_pname, \"E\"]**3\\\n",
    "        /(masses.loc[pretty_pname, \"E\"]**2 - masses.loc[belowthr_pcls, \"E\"]**2)**3\\\n",
    "        *pprops.loc[pretty_pname, \"xJ\"]\n",
    "    )\n",
    "    sumrule_prefactors[1].index = pd.Index([(pretty_pname, v) for v in sumrule_prefactors[1].index.values])\n",
    "    \n",
    "    sumrule_prefactors_cnct = pd.concat(sumrule_prefactors, axis=0)\n",
    "    sumrule_prefactors_cnct = sumrule_prefactors_cnct.reindex(widths.index.values)\n",
    "    \n",
    "    sumrule_prefactors_cnct = sumrule_prefactors_cnct*(widths.loc[:, \"r2\"] - widths.loc[:, \"r0\"])\\\n",
    "                *(0.19732697)**2*10**4*10**3\n",
    "    sumrule = widths.drop(columns=[\"r0\", \"r2\"])\\\n",
    "                .apply(\\\n",
    "                        lambda s: s*sumrule_prefactors_cnct.values\\\n",
    "                    )\n",
    "    sumrule_err = widths_err.drop(columns=[\"r0\", \"r2\"])\\\n",
    "                .apply(\\\n",
    "                        lambda s: s*sumrule_prefactors_cnct.values\\\n",
    "                    )\n",
    "    \n",
    "    widths.drop(columns=[\"r2\", \"r0\"], inplace=True)\n",
    "    widths = dfsort(widths, lambda a,b: cmpMultyStatesByCode(prefix, cfgname\n",
    "                                                         ,[name2code(i[1:-1]) for i in a]\n",
    "                                                         ,[name2code(i[1:-1]) for i in b]))\n",
    "    sumrule = sumrule.reindex(widths.index.values)\n",
    "    sumrule_err = sumrule_err.reindex(widths.index.values) \n",
    "    \n",
    "    return widths, widths_err.abs(), sumrule, sumrule_err.abs()"
   ]
  },
  {
   "cell_type": "code",
   "execution_count": 15,
   "metadata": {},
   "outputs": [],
   "source": [
    "def artSumruleReport(pname, prefix, cfgname):\n",
    "    pretty_pname = \"${}$\".format(code2name(pname))\n",
    "    def istriv(val):\n",
    "        return sp.isnan(val) or val == 0\n",
    "    \n",
    "    def numfmt(num):\n",
    "        return \"{: .5f}\".format(num)\n",
    "    \n",
    "    def quartet(a, amin, amax, b, sign=2):\n",
    "        if not istriv(b):\n",
    "            prec = -int(sp.floor(sp.log10(b)))+sign-1 # precision for 2 sign figure of b\n",
    "        else:\n",
    "            prec = -int(sp.floor(sp.log10(sp.absolute(amax-amin))))+sign-1 # if b is triv => prec = 2 sign figures of amax-amin\n",
    "        \n",
    "        return prec, sp.around(sp.array([a, amin, amax, b]), decimals=prec)\n",
    "    \n",
    "    def quartet_str(a, amin, amax, b, sign=2, labels=True, force_prec=None):\n",
    "        if force_prec is None:\n",
    "            prec, (a, amin, amax, b) = quartet(a, amin, amax, b, sign=sign)\n",
    "        else:\n",
    "            prec = force_prec\n",
    "            a, amin, amax, b = sp.around(sp.array([a, amin, amax, b]), decimals=prec)\n",
    "        if prec > 0:\n",
    "            patt = r\"{{:.{:d}f}}\".format(prec)\n",
    "        else:\n",
    "            patt = r\"{:d}\"\n",
    "            a = int(a)\n",
    "            amin = int(amin)\n",
    "            amax = int(amax)\n",
    "            b = int(b) if not istriv(b) else b\n",
    "        model_label_patt = r\"_{{model}}\" if labels else \"\"\n",
    "        exp_label_patt = r\"_{{exp}}\" if labels else \"\"\n",
    "        spread_patt = \"_{{-\"+patt+model_label_patt+\"}}^{{+\"+patt+\"}}\" if (amin or amax) else \"\"\n",
    "        respatt = \"${{\"+patt+\"}}\"+spread_patt+\"$\"\n",
    "        if not istriv(b):\n",
    "            respatt += r\"$\\pm{{\"+patt+\"}}\"+exp_label_patt+\"$\"\n",
    "            \n",
    "        format_params = [a] \\\n",
    "                      + ([sp.absolute(amin), amax] if spread_patt else []) \\\n",
    "                      + ([b] if not istriv(b) else [])\n",
    "        return respatt.format(*format_params)\n",
    "    \n",
    "    def doublet(a, b, sign=2):\n",
    "        prec, (a, amin, amax, b) = quartet(a, 0, 0.1, b, sign=sign) \n",
    "        return prec, sp.array([a, b])\n",
    "    \n",
    "    def doublet_str(a, b, sign=2, labels=True, force_prec=None):\n",
    "        if force_prec is None:\n",
    "            prec, (a, b) = doublet(a, b, sign=sign)\n",
    "        else:\n",
    "            prec = force_prec\n",
    "            a, b = sp.around(sp.array([a, b]), decimals=prec)\n",
    "        if prec > 0:\n",
    "            patt = r\"{{:.{:d}f}}\".format(prec)\n",
    "        else:\n",
    "            patt = r\"{:d}\"\n",
    "            a = int(a)\n",
    "            b = int(b) if not istriv(b) else b\n",
    "        exp_label_patt = r\"_{{exp}}\" if labels else \"\"\n",
    "        respatt = r\"${{\"+patt+\"}}$\"\n",
    "        if not istriv(b):\n",
    "            respatt += r\"$\\pm{{\"+patt+\"}}\"+exp_label_patt+\"$\"\n",
    "            \n",
    "        format_params = [a] \\\n",
    "                      + ([b] if not istriv(b) else [])\n",
    "        return respatt.format(a, b)\n",
    "    \n",
    "    def fillsubtot(row):\n",
    "        oldpdg = row[\"PDG\"]\n",
    "        for source in row.index.values:\n",
    "            if istriv(oldpdg):\n",
    "                \n",
    "                if not istriv(row[source]):\n",
    "                    continue\n",
    "\n",
    "                if istriv(row[\"E1\"]):\n",
    "                    row[source] = 0\n",
    "                else:\n",
    "                    row[source] = row[\"E1\"]\n",
    "            else:\n",
    "                row[source] = row[\"PDG\"]\n",
    "        return row\n",
    "    \n",
    "    def spreads(triple):\n",
    "        return (triple[0], min(triple)-triple[0], max(triple)-triple[0])\n",
    "    \n",
    "    def get_regular_row(label_pair, label, abovethr, force_prec=None):\n",
    "        # Regular entry\n",
    "        curdata = widths.loc[label_pair, :]\n",
    "        \n",
    "        srentry = sumrule.loc[label_pair][\"PDG\"]\n",
    "        if istriv(srentry): # srentry here is experimental res\n",
    "            srentry = quartet_str( *spreads(sumrule.loc[label_pair, [\"E1\", \"E1_min\", \"E1_max\"]])\n",
    "                                 , sumrule_err.loc[label_pair, \"PDG\"], force_prec=force_prec)\n",
    "        else:\n",
    "            srentry = doublet_str(srentry, sumrule_err.loc[label_pair, \"PDG\"], force_prec=force_prec)\n",
    "        \n",
    "        dwentry = widths.loc[label_pair][\"PDG\"]\n",
    "        if istriv(dwentry):\n",
    "            dwentry = quartet_str( *spreads(widths.loc[label_pair, [\"E1\", \"E1_min\", \"E1_max\"]])\n",
    "                                 , widths_err.loc[label_pair, \"PDG\"])\n",
    "        else:\n",
    "            dwentry = doublet_str(dwentry, widths_err.loc[label_pair, \"PDG\"])\n",
    "\n",
    "        massentry = doublet_str(masses.loc[label, \"Emix\"], sp.nan) # NaN to hide error bars for masses\n",
    "        \n",
    "        arrow = r\"${} \\rightarrow \\gamma {}$\".format(label[1:-1], pretty_pname[1:-1])\\\n",
    "                    if abovethr else\\\n",
    "                r\"${} \\rightarrow \\gamma {}$\".format(pretty_pname[1:-1], label[1:-1])\n",
    "        \n",
    "        return [NoEscape(i) for i in [arrow, massentry, dwentry, srentry]]\n",
    "    \n",
    "    widths, widths_err, sumrule, sumrule_err = getArtSumrule(pname, prefix, cfgname)\n",
    "    sumrule[[\"E1_min\", \"E1_max\"]] = sumrule[[\"E1_min\", \"E1_max\"]].apply(lambda row: sorted(row), axis=1, result_type=\"expand\").rename(columns={0: \"E1_min\", 1: \"E1_max\"})\n",
    "    masses, masses_err = getMasses(prefix, cfgname)\n",
    "    \n",
    "    tab = Tabularx(\"X|c|c|r\", width_argument=NoEscape(\"\\columnwidth\"))\n",
    "\n",
    "    # Header\n",
    "    tab.add_row([  \"Process\"\n",
    "                 , NoEscape(r\"$m_X$ [$MeV$]\")\\\n",
    "                 , NoEscape(r\"$\\Gamma$ [$KeV$]\".format(code2name(pname)))\\\n",
    "                 , NoEscape(r\"$SR_1$ [$\\mu b$]\")\n",
    "                ])\n",
    "    tab.add_hline()\n",
    "\n",
    "    curN = \"1\"\n",
    "    tot = sumrule.iloc[0].fillna(0)*0\n",
    "    tot_err = sumrule_err.iloc[0].fillna(0)*0\n",
    "    getN = re.compile(\"\\((\\d+)[A-Z]\\)\\$$\")\n",
    "    \n",
    "    regular_stack = []\n",
    "    \n",
    "    for label_pair in sumrule.index.values:\n",
    "        if label_pair[0] == pretty_pname:\n",
    "            label = label_pair[1]\n",
    "            abovethr = False\n",
    "        elif label_pair[1] == pretty_pname:\n",
    "            label = label_pair[0]\n",
    "            abovethr = True\n",
    "        else:\n",
    "            continue\n",
    "\n",
    "        # Manage subtotals\n",
    "        newN = getN.search(label).groups()[0]\n",
    "        if newN != curN:\n",
    "            subtot_prec, _ = quartet( *spreads(tot[[\"PDG\", \"E1_min\", \"E1_max\"]])\n",
    "                                     , sp.sqrt(tot_err[\"PDG\"]))\n",
    "            while regular_stack:\n",
    "                row_args = regular_stack[0]\n",
    "                trans_row = get_regular_row(*row_args, force_prec=subtot_prec)\n",
    "                tab.add_row(trans_row)\n",
    "                del regular_stack[0]\n",
    "            tab.add_hline()\n",
    "            \n",
    "            srentry = quartet_str( *spreads(tot[[\"PDG\", \"E1_min\", \"E1_max\"]])\n",
    "                                     , sp.sqrt(tot_err[\"PDG\"]))\n",
    "            \n",
    "            tab.add_row([MultiColumn(1, align=\"l\", data=NoEscape(\"Subtotal\")), MultiColumn(3, align=\"r\", data=NoEscape(srentry))])\n",
    "            tab.add_hline()\n",
    "            tot = fillsubtot(sumrule.loc[label_pair].copy())\n",
    "            tot_err = fillsubtot(sumrule_err.loc[label_pair].copy()**2)\n",
    "            curN = newN\n",
    "        else:\n",
    "            tot += fillsubtot(sumrule.loc[label_pair].copy())\n",
    "            tot_err += fillsubtot(sumrule_err.loc[label_pair].copy()**2)\n",
    "            \n",
    "        regular_stack.append((label_pair, label, abovethr))\n",
    "\n",
    "    # Final subtotal\n",
    "    subtot_prec, _ = quartet( *spreads(tot[[\"PDG\", \"E1_min\", \"E1_max\"]])\n",
    "                             , sp.sqrt(tot_err[\"PDG\"]))\n",
    "    while regular_stack:\n",
    "        row_args = regular_stack[0]\n",
    "        trans_row = get_regular_row(*row_args, force_prec=subtot_prec)\n",
    "        tab.add_row(trans_row)\n",
    "        del regular_stack[0]\n",
    "    tab.add_hline()\n",
    "    \n",
    "    srentry = quartet_str( *spreads(tot[[\"PDG\", \"E1_min\", \"E1_max\"]])\n",
    "                                     , sp.sqrt(tot_err[\"PDG\"]))\n",
    "    \n",
    "    tab.add_row([MultiColumn(1, align=\"l\", data=NoEscape(\"Subtotal\")), MultiColumn(3, align=\"r\", data=NoEscape(srentry))])\n",
    "    tab.add_hline()\n",
    "    tab.add_hline()\n",
    "\n",
    "    # Total\n",
    "    tot = sumrule.apply(fillsubtot, axis=1).sum(axis=0)\n",
    "    tot_err = sumrule_err.apply(sp.square).sum(axis=0)\n",
    "    \n",
    "    srentry = quartet_str( *spreads(tot[[\"PDG\", \"E1_min\", \"E1_max\"]])\n",
    "                                     , sp.sqrt(tot_err[\"PDG\"]))\n",
    "    \n",
    "    tab.add_row([MultiColumn(1, align=\"l\", data=NoEscape(\"Total\")), MultiColumn(3, align=\"r\", data=NoEscape(srentry))])\n",
    "    \n",
    "    return tab"
   ]
  },
  {
   "cell_type": "code",
   "execution_count": 16,
   "metadata": {},
   "outputs": [],
   "source": [
    "def doArtSumruleReport(pname, prefix, cfgname):\n",
    "    artSumruleReport(pname, prefix, cfgname).generate_tex(\"export/sr-article.{}.{}\".format(pname, cfgname))"
   ]
  },
  {
   "cell_type": "markdown",
   "metadata": {},
   "source": [
    "### Bottomonium sumrules"
   ]
  },
  {
   "cell_type": "code",
   "execution_count": 17,
   "metadata": {
    "scrolled": false
   },
   "outputs": [],
   "source": [
    "doArtSumruleReport(\"yps_1S\", \"scr\", \"b-scr\")"
   ]
  },
  {
   "cell_type": "code",
   "execution_count": 18,
   "metadata": {},
   "outputs": [],
   "source": [
    "doArtSumruleReport(\"yps_2S\", \"scr\", \"b-scr\")"
   ]
  },
  {
   "cell_type": "code",
   "execution_count": 19,
   "metadata": {},
   "outputs": [],
   "source": [
    "doArtSumruleReport(\"yps_3S\", \"scr\", \"b-scr\")"
   ]
  },
  {
   "cell_type": "markdown",
   "metadata": {},
   "source": [
    "###  Charmonium Screened Sumrules"
   ]
  },
  {
   "cell_type": "code",
   "execution_count": 344,
   "metadata": {
    "scrolled": false
   },
   "outputs": [],
   "source": [
    "doArtSumruleReport(\"psi_1S\", \"scr\", \"c-scr\")"
   ]
  },
  {
   "cell_type": "code",
   "execution_count": 345,
   "metadata": {},
   "outputs": [],
   "source": [
    "doArtSumruleReport(\"psi_2S\", \"scr\", \"c-scr\")"
   ]
  },
  {
   "cell_type": "code",
   "execution_count": 346,
   "metadata": {},
   "outputs": [],
   "source": [
    "doArtSumruleReport(\"psi_1_1D\", \"scr\", \"c-scr\")"
   ]
  },
  {
   "cell_type": "markdown",
   "metadata": {},
   "source": [
    "### Charmonium Linear"
   ]
  },
  {
   "cell_type": "code",
   "execution_count": 347,
   "metadata": {},
   "outputs": [],
   "source": [
    "doArtSumruleReport(\"psi_1S\", \"lin\", \"c-lin\")"
   ]
  },
  {
   "cell_type": "code",
   "execution_count": 348,
   "metadata": {},
   "outputs": [],
   "source": [
    "doArtSumruleReport(\"psi_2S\", \"lin\", \"c-lin\")"
   ]
  },
  {
   "cell_type": "code",
   "execution_count": 349,
   "metadata": {},
   "outputs": [],
   "source": [
    "doArtSumruleReport(\"psi_1_1D\", \"lin\", \"c-lin\")"
   ]
  },
  {
   "cell_type": "markdown",
   "metadata": {},
   "source": [
    "## Decay widths for article"
   ]
  },
  {
   "cell_type": "code",
   "execution_count": 17,
   "metadata": {},
   "outputs": [],
   "source": [
    "def artWidthsReport(pname, prefix, cfgname):\n",
    "    pretty_pname = \"${}$\".format(code2name(pname))\n",
    "    def istriv(val):\n",
    "        return sp.isnan(val) or val == 0\n",
    "    \n",
    "    def numfmt(num):\n",
    "        return \"{: .5f}\".format(num)\n",
    "    \n",
    "    def quartet(a, amin, amax, b, sign=2):\n",
    "        if not istriv(b):\n",
    "            prec = -int(sp.floor(sp.log10(b)))+sign-1 # precision for 2 sign figure of b\n",
    "        else:\n",
    "            prec = -int(sp.floor(sp.log10(sp.absolute(amax-amin))))+sign-1 # if b is triv => prec = 2 sign figures of amax-amin\n",
    "        \n",
    "        return prec, sp.around(sp.array([a, amin, amax, b]), decimals=prec)\n",
    "    \n",
    "    def quartet_str(a, amin, amax, b, sign=2):\n",
    "        prec, (a, amin, amax, b) = quartet(a, amin, amax, b, sign=sign)\n",
    "        if prec > 0:\n",
    "            patt = r\"{{:.{:d}f}}\".format(prec)\n",
    "        else:\n",
    "            patt = r\"{:d}\"\n",
    "            a = int(a)\n",
    "            amin = int(amin)\n",
    "            amax = int(amax)\n",
    "            b = int(b) if not istriv(b) else b\n",
    "        respatt = \"${{\"+patt+\"}}_{{-\"+patt+\"}}^{{+\"+patt+\"}}$\"\n",
    "        if not istriv(b):\n",
    "            respatt += r\"$\\pm{{\"+patt+\"}}$\"\n",
    "        return respatt.format(a, sp.absolute(amin), amax, b)\n",
    "    \n",
    "    def doublet(a, b, sign=2):\n",
    "        prec, (a, amin, amax, b) = quartet(a, 0, 0.1, b, sign=sign) \n",
    "        return prec, sp.array([a, b])\n",
    "    \n",
    "    def doublet_str(a, b, sign=2):\n",
    "        prec, (a, b) = doublet(a, b, sign=sign)\n",
    "        if prec > 0:\n",
    "            patt = r\"{{:.{:d}f}}\".format(prec)\n",
    "        else:\n",
    "            patt = r\"{:d}\"\n",
    "            a = int(a)\n",
    "            b = int(b) if not istriv(b) else b\n",
    "        respatt = r\"${{\"+patt+\"}}$\"\n",
    "        if not istriv(b):\n",
    "            respatt += r\"$\\pm{{\"+patt+\"}}$\"\n",
    "        return respatt.format(a, b)\n",
    "    \n",
    "    def spreads(triple):\n",
    "        return (triple[0], min(triple)-triple[0], max(triple)-triple[0])\n",
    "    \n",
    "    widths, widths_err = getE1Widths(pname, prefix, cfgname)\n",
    "    masses, masses_err = getMasses(prefix, cfgname)\n",
    "    \n",
    "    tab = Tabularx(\"X|c|c|c\", width_argument=NoEscape(\"\\columnwidth\"))\n",
    "\n",
    "    # Header\n",
    "    tab.add_row([  NoEscape(r\"$V = {}$\".format(code2name(pname)))\\\n",
    "                 , NoEscape(r\"$M^{exp}_{X}$ [$MeV$]\")\\\n",
    "#                  , NoEscape(r\"$M^{model}_{X}$ [$MeV$]\")\\\n",
    "                 , NoEscape(r\"$\\Gamma^{exp}$ [$KeV$]\")\\\n",
    "                 , NoEscape(r\"$\\Gamma^{model}$ [$KeV$]\")\\\n",
    "                ])\n",
    "    tab.add_hline()\n",
    "\n",
    "    curN = \"\"\n",
    "    getN = re.compile(r\"\\((\\d+)[A-Z]\\)\\$$\")\n",
    "    for label_pair in widths.index.values:\n",
    "        if label_pair[0] == pretty_pname:\n",
    "            label = label_pair[1]\n",
    "            abovethr = False\n",
    "        elif label_pair[1] == pretty_pname:\n",
    "            label = label_pair[0]\n",
    "            abovethr = True\n",
    "        else:\n",
    "            continue\n",
    "    \n",
    "        # Regular entry\n",
    "        curdata = widths.loc[label_pair, :]\n",
    "        \n",
    "        dwentry_exp = widths.loc[label_pair][\"PDG\"]\n",
    "        if istriv(dwentry_exp):\n",
    "            continue\n",
    "            \n",
    "        newN = getN.search(label).group(0)\n",
    "        if newN != curN:\n",
    "            if curN:\n",
    "                tab.add_hline()\n",
    "            curN = newN\n",
    "        \n",
    "        dwentry_exp = doublet_str(dwentry_exp, widths_err.loc[label_pair, \"PDG\"])\n",
    "        dwentry_model = quartet_str(*spreads(widths.loc[label_pair, [\"E1\", \"E1_min\", \"E1_max\"]]), sp.nan)\n",
    "        \n",
    "        arrow = r\"${} \\rightarrow \\gamma V$\" if abovethr else r\"$V \\rightarrow \\gamma{}$\"\n",
    "        arrow = arrow.format(label[1:-1])\n",
    "        \n",
    "        massentry_exp = doublet_str(masses.loc[label, \"PDG\"], masses_err.loc[label, \"PDG\"])\n",
    "        massentry_model = doublet_str(masses.loc[label, \"E\"], masses_err.loc[label, \"E\"])\n",
    "\n",
    "#         tab.add_row([NoEscape(i) for i in [label, massentry_exp, massentry_model, arrow, dwentry_exp, dwentry_model]])\n",
    "        tab.add_row([NoEscape(i) for i in [arrow, massentry_exp, dwentry_exp, dwentry_model]])\n",
    "    tab.add_hline()\n",
    "    \n",
    "    return tab"
   ]
  },
  {
   "cell_type": "code",
   "execution_count": 18,
   "metadata": {},
   "outputs": [],
   "source": [
    "def doArtWidthsReport(pname, prefix, cfgname):\n",
    "    artWidthsReport(pname, prefix, cfgname).generate_tex(\"export/widths-article.{}.{}\".format(pname, cfgname))"
   ]
  },
  {
   "cell_type": "markdown",
   "metadata": {},
   "source": [
    "### Bottomonium widths"
   ]
  },
  {
   "cell_type": "code",
   "execution_count": 32,
   "metadata": {
    "scrolled": false
   },
   "outputs": [],
   "source": [
    "doArtWidthsReport(\"yps_1S\", \"scr\", \"b-scr\")"
   ]
  },
  {
   "cell_type": "code",
   "execution_count": 33,
   "metadata": {},
   "outputs": [],
   "source": [
    "doArtWidthsReport(\"yps_2S\", \"scr\", \"b-scr\")"
   ]
  },
  {
   "cell_type": "code",
   "execution_count": 34,
   "metadata": {},
   "outputs": [],
   "source": [
    "doArtWidthsReport(\"yps_3S\", \"scr\", \"b-scr\")"
   ]
  },
  {
   "cell_type": "markdown",
   "metadata": {},
   "source": [
    "###  Charmonium Screened Widths"
   ]
  },
  {
   "cell_type": "code",
   "execution_count": 304,
   "metadata": {
    "scrolled": false
   },
   "outputs": [],
   "source": [
    "doArtWidthsReport(\"psi_1S\", \"scr\", \"c-scr\")"
   ]
  },
  {
   "cell_type": "code",
   "execution_count": 305,
   "metadata": {},
   "outputs": [],
   "source": [
    "doArtWidthsReport(\"psi_2S\", \"scr\", \"c-scr\")"
   ]
  },
  {
   "cell_type": "code",
   "execution_count": 306,
   "metadata": {},
   "outputs": [],
   "source": [
    "doArtWidthsReport(\"psi_1_1D\", \"scr\", \"c-scr\")"
   ]
  },
  {
   "cell_type": "markdown",
   "metadata": {},
   "source": [
    "### Charmonium Linear"
   ]
  },
  {
   "cell_type": "code",
   "execution_count": 307,
   "metadata": {},
   "outputs": [],
   "source": [
    "doArtWidthsReport(\"psi_1S\", \"lin\", \"c-lin\")"
   ]
  },
  {
   "cell_type": "code",
   "execution_count": 308,
   "metadata": {},
   "outputs": [],
   "source": [
    "doArtWidthsReport(\"psi_2S\", \"lin\", \"c-lin\")"
   ]
  },
  {
   "cell_type": "code",
   "execution_count": 309,
   "metadata": {},
   "outputs": [],
   "source": [
    "doArtWidthsReport(\"psi_1_1D\", \"lin\", \"c-lin\")"
   ]
  },
  {
   "cell_type": "markdown",
   "metadata": {},
   "source": [
    "## Decay widths E1 model comparison plots"
   ]
  },
  {
   "cell_type": "code",
   "execution_count": 65,
   "metadata": {},
   "outputs": [],
   "source": [
    "def getModelWidthsPerPname(pname, prefix, cfgname):\n",
    "    pretty_pname = \"${}$\".format(code2name(pname))\n",
    "    my_E1 = getRs(pname, prefix, cfgname, suffix=\"E1\")\n",
    "    my_E1.rename(columns={\"$\\Gamma$\": \"This work\", \"$r^{(0)}$\": \"r0\", \"$r^{(2)}$\": \"r2\"}, inplace=True)\n",
    "    deng = pd.concat([getDengTrans(prefix, cfg) for\\\n",
    "                          cfg in data_pack[cfgname.split(\"-\")[0]]\n",
    "                     ], sort=False, axis=0)\n",
    "    pdg, pdg_err = getPDGTrans(cfgname.split(\"-\")[0])\n",
    "    pdg = pdg.reindex(my_E1.index).loc[pretty_pname]\n",
    "    pdg_err = pdg_err.reindex(my_E1.index).loc[pretty_pname]\n",
    "    deng = deng.drop(columns=\"Deng\").reindex(my_E1.index).loc[pretty_pname]\n",
    "    my_E1 = my_E1.drop(columns=[\"r0\", \"r2\"]).loc[pretty_pname]\n",
    "    res = pd.concat([pdg, my_E1, deng], axis=1)\n",
    "    err = res*sp.nan\n",
    "    err[\"PDG\"] = pdg_err\n",
    "    for col in tuple(res.columns):\n",
    "        if res[col].isnull().values.all():\n",
    "            del res[col]\n",
    "            del err[col]\n",
    "    return res, err.abs()"
   ]
  },
  {
   "cell_type": "code",
   "execution_count": 66,
   "metadata": {},
   "outputs": [],
   "source": [
    "def getModelWidthsDistributionPerModel(pname, prefix, cfgname):\n",
    "    widths, errs = getModelWidthsPerPname(pname, prefix, cfgname)\n",
    "    normalized = widths.div(widths[\"PDG\"], axis=\"index\") - 1\n",
    "    assert not normalized[\"PDG\"].isnull().values.all()\n",
    "    normalized.drop(columns=[\"PDG\"], inplace=True)\n",
    "    return normalized, errs.div(widths[\"PDG\"], axis=\"index\")"
   ]
  },
  {
   "cell_type": "code",
   "execution_count": 72,
   "metadata": {},
   "outputs": [],
   "source": [
    "def doPlotWidthsDistributionPerModel(ax, pname, prefix, cfgname, final_state_filter=None):\n",
    "    if final_state_filter is None:\n",
    "        final_state_filter = []\n",
    "        \n",
    "    macrostep = 1\n",
    "    miniframe = 0.7\n",
    "    markers = [\"o\", \"s\", \"x\", \"*\", \"x\", \"P\"]\n",
    "    colors = [\"red\", \"orange\", \"blue\", \"violet\", \"brown\", \"green\"]\n",
    "    \n",
    "    widths, err = getModelWidthsDistributionPerModel(pname, prefix, cfgname)\n",
    "    \n",
    "    keep_index = [idx_val for idx_val in widths.index.values if any(fval in idx_val for fval in final_state_filter)]\n",
    "    widths = widths.reindex(keep_index)\n",
    "    err = err.reindex(keep_index)\n",
    "    \n",
    "    batch_size = len(widths.index)\n",
    "    ministep = miniframe/batch_size\n",
    "    \n",
    "    state_marker_map = {state: {\"marker\": markers[i], \"color\": colors[i]} for i, state in enumerate(widths.index.values)}\n",
    "    model_name_map = {\"SNR0\": \"LC0\", \"SNR1\": \"LC1\", \"Deng\": \"DLGZ\", \"RQM\": \"EFG\", \"NR\": \"SOEF\", \"GI\": \"GM\"}\n",
    "    \n",
    "    y = []\n",
    "    y_err = []\n",
    "    x = []\n",
    "    xtick_pos = []\n",
    "    xtick_label = []\n",
    "    \n",
    "    macro = 1\n",
    "    for model in widths.columns:\n",
    "        mini = 0\n",
    "        for state in widths.index.values:\n",
    "            y_value = widths.loc[state, model]\n",
    "            y_err_value = err.loc[state, \"PDG\"]\n",
    "            x_value = macro*macrostep - miniframe/2 + ministep*(mini + 0.5)\n",
    "            ax.errorbar(x_value, y_value, yerr=y_err_value, linestyle=\"\", marker=state_marker_map[state][\"marker\"],\n",
    "                         color=state_marker_map[state][\"color\"])\n",
    "            mini += 1\n",
    "        xtick_pos.append(macro)\n",
    "        xtick_label.append(model_name_map.get(model, model))\n",
    "        macro += 1\n",
    "    ax.axhline(0, color=\"gray\", linestyle=\"--\")\n",
    "    ax.set_ylabel(r\"$\\frac{\\Gamma_{model} - \\Gamma_{exp}}{\\Gamma_{exp}}$\")\n",
    "    ax.set_xticks(xtick_pos)\n",
    "    ax.set_xticklabels(xtick_label)\n",
    "    ax.set_ylim([-0.8, 0.8])\n",
    "    \n",
    "    legend_patches = []\n",
    "    for state, marker_setting in state_marker_map.items():\n",
    "        patch = matplotlib.patches.Patch(color=marker_setting[\"color\"], label=f'${code2name(pname)}$ $\\\\rightarrow$ {state}')\n",
    "        legend_patches.append(patch)\n",
    "    ax.legend(handles=legend_patches, bbox_to_anchor=(1, 1), loc=\"upper left\")"
   ]
  },
  {
   "cell_type": "code",
   "execution_count": 73,
   "metadata": {},
   "outputs": [
    {
     "data": {
      "image/png": "[encoded data removed]",
      "text/plain": [
       "<Figure size 576x864 with 2 Axes>"
      ]
     },
     "metadata": {
      "needs_background": "light"
     },
     "output_type": "display_data"
    }
   ],
   "source": [
    "fig, axes = plt.subplots(ncols=1, nrows=2, sharex=True, figsize=(FIG_HSIZE, 2*FIG_VSIZE), gridspec_kw={\"hspace\": 0.05})\n",
    "\n",
    "fig.suptitle(\"Transitions of bottomonium $\\\\Upsilon$ state. Model comparison\", y=0.93)\n",
    "distribution_batch = [doPlotWidthsDistributionPerModel(axes[0], \"yps_2S\", \"scr\", \"b-scr\", final_state_filter=[\"1P\"]),\n",
    "                      doPlotWidthsDistributionPerModel(axes[1], \"yps_3S\", \"scr\", \"b-scr\", final_state_filter=[\"2P\"])]\n",
    "\n",
    "fig.savefig(\"export/widths_model_cmp-article.scr.b-scr.png\", bbox_inches=\"tight\")"
   ]
  },
  {
   "cell_type": "code",
   "execution_count": 74,
   "metadata": {},
   "outputs": [
    {
     "ename": "KeyboardInterrupt",
     "evalue": "Enough for output",
     "output_type": "error",
     "traceback": [
      "\u001b[0;31m---------------------------------------------------------------------------\u001b[0m",
      "\u001b[0;31mKeyboardInterrupt\u001b[0m                         Traceback (most recent call last)",
      "\u001b[0;32m~/projects/raddecays/raddecays-core/tests/header.py\u001b[0m in \u001b[0;36m<module>\u001b[0;34m\u001b[0m\n\u001b[0;32m----> 1\u001b[0;31m \u001b[0;32mraise\u001b[0m \u001b[0mKeyboardInterrupt\u001b[0m\u001b[0;34m(\u001b[0m\u001b[0;34m\"Enough for output\"\u001b[0m\u001b[0;34m)\u001b[0m\u001b[0;34m\u001b[0m\u001b[0m\n\u001b[0m",
      "\u001b[0;31mKeyboardInterrupt\u001b[0m: Enough for output"
     ]
    }
   ],
   "source": [
    "raise KeyboardInterrupt(\"Enough for output\")"
   ]
  },
  {
   "cell_type": "code",
   "execution_count": null,
   "metadata": {},
   "outputs": [],
   "source": []
  },
  {
   "cell_type": "code",
   "execution_count": null,
   "metadata": {},
   "outputs": [],
   "source": []
  }
 ],
 "metadata": {
  "kernelspec": {
   "display_name": "Python 3",
   "language": "python",
   "name": "python3"
  },
  "language_info": {
   "codemirror_mode": {
    "name": "ipython",
    "version": 3
   },
   "file_extension": ".py",
   "mimetype": "text/x-python",
   "name": "python",
   "nbconvert_exporter": "python",
   "pygments_lexer": "ipython3",
   "version": "3.6.5"
  }
 },
 "nbformat": 4,
 "nbformat_minor": 2
}
